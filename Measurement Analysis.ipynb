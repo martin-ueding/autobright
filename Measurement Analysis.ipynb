{
 "cells": [
  {
   "cell_type": "code",
   "execution_count": 83,
   "id": "20f25341-dd94-48c8-a8e9-4fb87043df5c",
   "metadata": {},
   "outputs": [],
   "source": [
    "import pandas as pd\n",
    "import altair as alt\n",
    "import numpy as np\n",
    "\n",
    "from scipy.signal import savgol_filter\n",
    "import loess.loess_1d\n",
    "import scipy.optimize\n",
    "import scipy.interpolate"
   ]
  },
  {
   "cell_type": "code",
   "execution_count": 4,
   "id": "79b73f63-5c1d-4e00-a0e8-9e52bc066c1c",
   "metadata": {},
   "outputs": [],
   "source": [
    "data1 = pd.read_json('measurements_2.js')"
   ]
  },
  {
   "cell_type": "code",
   "execution_count": 8,
   "id": "07a397b4-3f96-43e2-acaa-6e52f98307b3",
   "metadata": {},
   "outputs": [],
   "source": [
    "data2 = pd.read_json('/home/mu/.local/share/autobright/measurements.js')"
   ]
  },
  {
   "cell_type": "code",
   "execution_count": 10,
   "id": "d3b94658-0494-4eba-bdea-af43fae4acdc",
   "metadata": {},
   "outputs": [],
   "source": [
    "data = pd.concat([data1, data2])"
   ]
  },
  {
   "cell_type": "code",
   "execution_count": 11,
   "id": "b30941d7-d622-4987-9894-35f6556edfe9",
   "metadata": {},
   "outputs": [
    {
     "data": {
      "text/html": [
       "<div>\n",
       "<style scoped>\n",
       "    .dataframe tbody tr th:only-of-type {\n",
       "        vertical-align: middle;\n",
       "    }\n",
       "\n",
       "    .dataframe tbody tr th {\n",
       "        vertical-align: top;\n",
       "    }\n",
       "\n",
       "    .dataframe thead th {\n",
       "        text-align: right;\n",
       "    }\n",
       "</style>\n",
       "<table border=\"1\" class=\"dataframe\">\n",
       "  <thead>\n",
       "    <tr style=\"text-align: right;\">\n",
       "      <th></th>\n",
       "      <th>datetime</th>\n",
       "      <th>reading</th>\n",
       "      <th>brightness</th>\n",
       "    </tr>\n",
       "  </thead>\n",
       "  <tbody>\n",
       "    <tr>\n",
       "      <th>0</th>\n",
       "      <td>2021-11-17 09:16:27.733</td>\n",
       "      <td>359</td>\n",
       "      <td>11</td>\n",
       "    </tr>\n",
       "    <tr>\n",
       "      <th>1</th>\n",
       "      <td>2021-11-17 12:43:34.860</td>\n",
       "      <td>279</td>\n",
       "      <td>9</td>\n",
       "    </tr>\n",
       "    <tr>\n",
       "      <th>2</th>\n",
       "      <td>2021-11-17 12:50:02.146</td>\n",
       "      <td>273</td>\n",
       "      <td>8</td>\n",
       "    </tr>\n",
       "    <tr>\n",
       "      <th>3</th>\n",
       "      <td>2021-11-17 14:17:43.697</td>\n",
       "      <td>291</td>\n",
       "      <td>7</td>\n",
       "    </tr>\n",
       "    <tr>\n",
       "      <th>4</th>\n",
       "      <td>2021-11-17 14:42:29.204</td>\n",
       "      <td>197</td>\n",
       "      <td>6</td>\n",
       "    </tr>\n",
       "    <tr>\n",
       "      <th>...</th>\n",
       "      <td>...</td>\n",
       "      <td>...</td>\n",
       "      <td>...</td>\n",
       "    </tr>\n",
       "    <tr>\n",
       "      <th>19</th>\n",
       "      <td>2021-11-21 15:12:35.363</td>\n",
       "      <td>224</td>\n",
       "      <td>5</td>\n",
       "    </tr>\n",
       "    <tr>\n",
       "      <th>20</th>\n",
       "      <td>2021-11-22 18:05:38.775</td>\n",
       "      <td>741</td>\n",
       "      <td>5</td>\n",
       "    </tr>\n",
       "    <tr>\n",
       "      <th>21</th>\n",
       "      <td>2022-05-15 12:45:56.401</td>\n",
       "      <td>525</td>\n",
       "      <td>40</td>\n",
       "    </tr>\n",
       "    <tr>\n",
       "      <th>22</th>\n",
       "      <td>2022-05-15 12:46:10.192</td>\n",
       "      <td>526</td>\n",
       "      <td>40</td>\n",
       "    </tr>\n",
       "    <tr>\n",
       "      <th>23</th>\n",
       "      <td>2022-05-15 13:06:39.722</td>\n",
       "      <td>550</td>\n",
       "      <td>34</td>\n",
       "    </tr>\n",
       "  </tbody>\n",
       "</table>\n",
       "<p>128 rows × 3 columns</p>\n",
       "</div>"
      ],
      "text/plain": [
       "                  datetime  reading  brightness\n",
       "0  2021-11-17 09:16:27.733      359          11\n",
       "1  2021-11-17 12:43:34.860      279           9\n",
       "2  2021-11-17 12:50:02.146      273           8\n",
       "3  2021-11-17 14:17:43.697      291           7\n",
       "4  2021-11-17 14:42:29.204      197           6\n",
       "..                     ...      ...         ...\n",
       "19 2021-11-21 15:12:35.363      224           5\n",
       "20 2021-11-22 18:05:38.775      741           5\n",
       "21 2022-05-15 12:45:56.401      525          40\n",
       "22 2022-05-15 12:46:10.192      526          40\n",
       "23 2022-05-15 13:06:39.722      550          34\n",
       "\n",
       "[128 rows x 3 columns]"
      ]
     },
     "execution_count": 11,
     "metadata": {},
     "output_type": "execute_result"
    }
   ],
   "source": [
    "data"
   ]
  },
  {
   "cell_type": "code",
   "execution_count": 16,
   "id": "cca177f8-296d-4a7b-9ef2-4cefbfd278ee",
   "metadata": {},
   "outputs": [
    {
     "data": {
      "text/html": [
       "\n",
       "<div id=\"altair-viz-aed8cb268c8c4757ab0234517c1ad9bb\"></div>\n",
       "<script type=\"text/javascript\">\n",
       "  (function(spec, embedOpt){\n",
       "    let outputDiv = document.currentScript.previousElementSibling;\n",
       "    if (outputDiv.id !== \"altair-viz-aed8cb268c8c4757ab0234517c1ad9bb\") {\n",
       "      outputDiv = document.getElementById(\"altair-viz-aed8cb268c8c4757ab0234517c1ad9bb\");\n",
       "    }\n",
       "    const paths = {\n",
       "      \"vega\": \"https://cdn.jsdelivr.net/npm//vega@5?noext\",\n",
       "      \"vega-lib\": \"https://cdn.jsdelivr.net/npm//vega-lib?noext\",\n",
       "      \"vega-lite\": \"https://cdn.jsdelivr.net/npm//vega-lite@4.17.0?noext\",\n",
       "      \"vega-embed\": \"https://cdn.jsdelivr.net/npm//vega-embed@6?noext\",\n",
       "    };\n",
       "\n",
       "    function loadScript(lib) {\n",
       "      return new Promise(function(resolve, reject) {\n",
       "        var s = document.createElement('script');\n",
       "        s.src = paths[lib];\n",
       "        s.async = true;\n",
       "        s.onload = () => resolve(paths[lib]);\n",
       "        s.onerror = () => reject(`Error loading script: ${paths[lib]}`);\n",
       "        document.getElementsByTagName(\"head\")[0].appendChild(s);\n",
       "      });\n",
       "    }\n",
       "\n",
       "    function showError(err) {\n",
       "      outputDiv.innerHTML = `<div class=\"error\" style=\"color:red;\">${err}</div>`;\n",
       "      throw err;\n",
       "    }\n",
       "\n",
       "    function displayChart(vegaEmbed) {\n",
       "      vegaEmbed(outputDiv, spec, embedOpt)\n",
       "        .catch(err => showError(`Javascript Error: ${err.message}<br>This usually means there's a typo in your chart specification. See the javascript console for the full traceback.`));\n",
       "    }\n",
       "\n",
       "    if(typeof define === \"function\" && define.amd) {\n",
       "      requirejs.config({paths});\n",
       "      require([\"vega-embed\"], displayChart, err => showError(`Error loading script: ${err.message}`));\n",
       "    } else if (typeof vegaEmbed === \"function\") {\n",
       "      displayChart(vegaEmbed);\n",
       "    } else {\n",
       "      loadScript(\"vega\")\n",
       "        .then(() => loadScript(\"vega-lite\"))\n",
       "        .then(() => loadScript(\"vega-embed\"))\n",
       "        .catch(showError)\n",
       "        .then(() => displayChart(vegaEmbed));\n",
       "    }\n",
       "  })({\"config\": {\"view\": {\"continuousWidth\": 400, \"continuousHeight\": 300}}, \"data\": {\"name\": \"data-c244bb19bb662fe287bab7e102f42694\"}, \"mark\": \"point\", \"encoding\": {\"x\": {\"field\": \"reading\", \"scale\": {\"clamp\": true}, \"title\": \"Sensor reading\", \"type\": \"quantitative\"}, \"y\": {\"field\": \"brightness\", \"scale\": {\"clamp\": true}, \"title\": \"Brightness setting\", \"type\": \"quantitative\"}}, \"selection\": {\"selector003\": {\"type\": \"interval\", \"bind\": \"scales\", \"encodings\": [\"x\", \"y\"]}}, \"title\": \"Raw measurements\", \"$schema\": \"https://vega.github.io/schema/vega-lite/v4.17.0.json\", \"datasets\": {\"data-c244bb19bb662fe287bab7e102f42694\": [{\"datetime\": \"2021-11-17T09:16:27.733000\", \"reading\": 359, \"brightness\": 11}, {\"datetime\": \"2021-11-17T12:43:34.860000\", \"reading\": 279, \"brightness\": 9}, {\"datetime\": \"2021-11-17T12:50:02.146000\", \"reading\": 273, \"brightness\": 8}, {\"datetime\": \"2021-11-17T14:17:43.697000\", \"reading\": 291, \"brightness\": 7}, {\"datetime\": \"2021-11-17T14:42:29.204000\", \"reading\": 197, \"brightness\": 6}, {\"datetime\": \"2021-11-18T10:16:26.214000\", \"reading\": 752, \"brightness\": 15}, {\"datetime\": \"2021-11-18T10:19:40.657000\", \"reading\": 745, \"brightness\": 12}, {\"datetime\": \"2021-11-18T10:23:10.472000\", \"reading\": 886, \"brightness\": 16}, {\"datetime\": \"2021-11-18T10:29:02.072000\", \"reading\": 1570, \"brightness\": 31}, {\"datetime\": \"2021-11-18T10:29:23.584000\", \"reading\": 1465, \"brightness\": 26}, {\"datetime\": \"2021-11-18T10:35:17.819000\", \"reading\": 1475, \"brightness\": 33}, {\"datetime\": \"2021-11-18T13:01:46.839000\", \"reading\": 420, \"brightness\": 27}, {\"datetime\": \"2021-11-18T13:02:07.333000\", \"reading\": 426, \"brightness\": 22}, {\"datetime\": \"2021-11-18T13:02:54.452000\", \"reading\": 437, \"brightness\": 14}, {\"datetime\": \"2021-11-18T13:34:28.914000\", \"reading\": 595, \"brightness\": 18}, {\"datetime\": \"2021-11-18T13:41:13.511000\", \"reading\": 489, \"brightness\": 20}, {\"datetime\": \"2021-11-18T14:33:48.004000\", \"reading\": 322, \"brightness\": 11}, {\"datetime\": \"2021-11-18T15:31:53.416000\", \"reading\": 209, \"brightness\": 8}, {\"datetime\": \"2021-11-18T19:18:27.289000\", \"reading\": 158, \"brightness\": 10}, {\"datetime\": \"2021-11-18T20:15:39.392000\", \"reading\": 152, \"brightness\": 7}, {\"datetime\": \"2022-03-11T12:42:28.401000\", \"reading\": 5790, \"brightness\": 28}, {\"datetime\": \"2022-03-11T12:43:20.135000\", \"reading\": 747, \"brightness\": 35}, {\"datetime\": \"2022-03-11T12:52:17.164000\", \"reading\": 785, \"brightness\": 35}, {\"datetime\": \"2022-03-11T16:57:12.798000\", \"reading\": 379, \"brightness\": 18}, {\"datetime\": \"2022-03-11T17:10:46.891000\", \"reading\": 215, \"brightness\": 14}, {\"datetime\": \"2022-03-11T18:05:58.741000\", \"reading\": 183, \"brightness\": 10}, {\"datetime\": \"2022-03-14T12:03:02.955000\", \"reading\": 794, \"brightness\": 35}, {\"datetime\": \"2022-03-14T13:03:19.302000\", \"reading\": 569, \"brightness\": 29}, {\"datetime\": \"2022-03-14T17:14:45.580000\", \"reading\": 464, \"brightness\": 25}, {\"datetime\": \"2022-03-15T13:37:51.671000\", \"reading\": 307, \"brightness\": 14}, {\"datetime\": \"2022-03-15T14:50:38.990000\", \"reading\": 624, \"brightness\": 25}, {\"datetime\": \"2022-03-16T07:30:30.938000\", \"reading\": 533, \"brightness\": 24}, {\"datetime\": \"2022-03-16T07:59:51.606000\", \"reading\": 1240, \"brightness\": 36}, {\"datetime\": \"2022-03-16T08:13:11.192000\", \"reading\": 2684, \"brightness\": 57}, {\"datetime\": \"2022-03-16T08:15:59.615000\", \"reading\": 3526, \"brightness\": 77}, {\"datetime\": \"2022-03-16T08:27:20.681000\", \"reading\": 6237, \"brightness\": 88}, {\"datetime\": \"2022-03-16T08:28:54.537000\", \"reading\": 6509, \"brightness\": 100}, {\"datetime\": \"2022-03-16T11:06:27.544000\", \"reading\": 1986, \"brightness\": 40}, {\"datetime\": \"2022-03-16T11:06:42.843000\", \"reading\": 1970, \"brightness\": 70}, {\"datetime\": \"2022-03-16T11:13:28.185000\", \"reading\": 1752, \"brightness\": 48}, {\"datetime\": \"2022-03-16T13:14:21.054000\", \"reading\": 1049, \"brightness\": 38}, {\"datetime\": \"2022-03-16T13:18:49.124000\", \"reading\": 1084, \"brightness\": 30}, {\"datetime\": \"2022-03-16T13:20:10.469000\", \"reading\": 1083, \"brightness\": 37}, {\"datetime\": \"2022-03-16T13:49:07.107000\", \"reading\": 870, \"brightness\": 24}, {\"datetime\": \"2022-03-16T16:18:49.818000\", \"reading\": 343, \"brightness\": 13}, {\"datetime\": \"2022-03-17T09:38:41.096000\", \"reading\": 298, \"brightness\": 8}, {\"datetime\": \"2022-03-17T10:09:41\", \"reading\": 378, \"brightness\": 15}, {\"datetime\": \"2022-03-17T10:10:13.514000\", \"reading\": 383, \"brightness\": 13}, {\"datetime\": \"2022-03-17T10:51:11.006000\", \"reading\": 280, \"brightness\": 10}, {\"datetime\": \"2022-03-17T12:40:59.489000\", \"reading\": 594, \"brightness\": 23}, {\"datetime\": \"2022-03-17T12:41:56.967000\", \"reading\": 621, \"brightness\": 17}, {\"datetime\": \"2022-03-17T13:56:18.278000\", \"reading\": 983, \"brightness\": 27}, {\"datetime\": \"2022-03-17T14:32:27.809000\", \"reading\": 508, \"brightness\": 21}, {\"datetime\": \"2022-03-17T15:04:00.106000\", \"reading\": 423, \"brightness\": 15}, {\"datetime\": \"2022-03-18T15:40:07.126000\", \"reading\": 970, \"brightness\": 54}, {\"datetime\": \"2022-03-18T15:41:29.953000\", \"reading\": 996, \"brightness\": 48}, {\"datetime\": \"2022-03-18T17:50:00.693000\", \"reading\": 226, \"brightness\": 28}, {\"datetime\": \"2022-03-21T15:18:21.328000\", \"reading\": 1029, \"brightness\": 46}, {\"datetime\": \"2022-03-21T17:05:31.505000\", \"reading\": 500, \"brightness\": 25}, {\"datetime\": \"2022-03-23T08:52:53.080000\", \"reading\": 8827, \"brightness\": 100}, {\"datetime\": \"2022-03-23T10:53:39.256000\", \"reading\": 2357, \"brightness\": 61}, {\"datetime\": \"2022-03-23T12:25:30.329000\", \"reading\": 842, \"brightness\": 33}, {\"datetime\": \"2022-03-23T13:02:58.771000\", \"reading\": 844, \"brightness\": 24}, {\"datetime\": \"2022-03-23T13:04:02.003000\", \"reading\": 873, \"brightness\": 32}, {\"datetime\": \"2022-03-23T13:19:25.566000\", \"reading\": 904, \"brightness\": 26}, {\"datetime\": \"2022-03-24T14:10:09.499000\", \"reading\": 984, \"brightness\": 48}, {\"datetime\": \"2022-03-24T14:15:34.746000\", \"reading\": 1065, \"brightness\": 30}, {\"datetime\": \"2022-03-24T15:55:14.676000\", \"reading\": 925, \"brightness\": 25}, {\"datetime\": \"2022-03-29T09:48:22.384000\", \"reading\": 1053, \"brightness\": 38}, {\"datetime\": \"2022-03-29T09:50:05.660000\", \"reading\": 1131, \"brightness\": 30}, {\"datetime\": \"2022-03-29T10:32:04.103000\", \"reading\": 2205, \"brightness\": 56}, {\"datetime\": \"2022-03-29T10:50:43.158000\", \"reading\": 2803, \"brightness\": 45}, {\"datetime\": \"2022-03-29T11:44:25.752000\", \"reading\": 2626, \"brightness\": 57}, {\"datetime\": \"2022-03-30T08:25:12.283000\", \"reading\": 228, \"brightness\": 11}, {\"datetime\": \"2022-03-30T08:45:45.310000\", \"reading\": 410, \"brightness\": 19}, {\"datetime\": \"2022-03-30T11:40:38.260000\", \"reading\": 3079, \"brightness\": 76}, {\"datetime\": \"2022-03-30T12:00:54.023000\", \"reading\": 2252, \"brightness\": 42}, {\"datetime\": \"2022-03-30T12:01:03.499000\", \"reading\": 2236, \"brightness\": 56}, {\"datetime\": \"2022-03-30T13:13:19.537000\", \"reading\": 1505, \"brightness\": 32}, {\"datetime\": \"2022-03-30T13:32:14.297000\", \"reading\": 1264, \"brightness\": 49}, {\"datetime\": \"2022-03-30T13:41:12.549000\", \"reading\": 1047, \"brightness\": 38}, {\"datetime\": \"2022-03-30T14:32:35.058000\", \"reading\": 1276, \"brightness\": 58}, {\"datetime\": \"2022-04-01T09:13:30.034000\", \"reading\": 150, \"brightness\": 13}, {\"datetime\": \"2022-04-01T09:54:59.671000\", \"reading\": 245, \"brightness\": 23}, {\"datetime\": \"2022-04-01T10:42:34.095000\", \"reading\": 510, \"brightness\": 31}, {\"datetime\": \"2022-04-01T13:23:10.189000\", \"reading\": 714, \"brightness\": 43}, {\"datetime\": \"2022-04-01T13:24:43.832000\", \"reading\": 730, \"brightness\": 36}, {\"datetime\": \"2022-04-01T13:25:44.364000\", \"reading\": 741, \"brightness\": 31}, {\"datetime\": \"2022-04-01T13:32:31.111000\", \"reading\": 562, \"brightness\": 27}, {\"datetime\": \"2022-04-01T13:42:54.036000\", \"reading\": 536, \"brightness\": 23}, {\"datetime\": \"2022-04-01T13:44:55.413000\", \"reading\": 530, \"brightness\": 21}, {\"datetime\": \"2022-04-01T13:46:50.108000\", \"reading\": 551, \"brightness\": 25}, {\"datetime\": \"2022-04-01T15:23:53.676000\", \"reading\": 228, \"brightness\": 20}, {\"datetime\": \"2022-04-04T13:57:37.079000\", \"reading\": 277, \"brightness\": 21}, {\"datetime\": \"2022-04-05T13:31:43.454000\", \"reading\": 838, \"brightness\": 25}, {\"datetime\": \"2022-04-05T14:16:02.992000\", \"reading\": 236, \"brightness\": 17}, {\"datetime\": \"2022-04-05T16:07:39.954000\", \"reading\": 429, \"brightness\": 22}, {\"datetime\": \"2022-04-05T16:08:17.486000\", \"reading\": 418, \"brightness\": 18}, {\"datetime\": \"2022-04-05T16:30:06.136000\", \"reading\": 285, \"brightness\": 13}, {\"datetime\": \"2022-04-06T11:14:32.408000\", \"reading\": 661, \"brightness\": 15}, {\"datetime\": \"2022-04-06T11:27:20.896000\", \"reading\": 500, \"brightness\": 10}, {\"datetime\": \"2022-04-06T13:00:17.208000\", \"reading\": 1030, \"brightness\": 25}, {\"datetime\": \"2022-04-06T13:06:02.255000\", \"reading\": 1135, \"brightness\": 32}, {\"datetime\": \"2022-04-20T08:07:38.144000\", \"reading\": 3752, \"brightness\": 61}, {\"datetime\": \"2021-11-14T14:17:10.798000\", \"reading\": 304, \"brightness\": 3}, {\"datetime\": \"2021-11-14T14:21:01.168000\", \"reading\": 287, \"brightness\": 3}, {\"datetime\": \"2021-11-14T14:28:48.624000\", \"reading\": 261, \"brightness\": 2}, {\"datetime\": \"2021-11-15T09:58:56.036000\", \"reading\": 352, \"brightness\": 2}, {\"datetime\": \"2021-11-15T16:06:48.212000\", \"reading\": 191, \"brightness\": 4}, {\"datetime\": \"2021-11-15T16:21:03.396000\", \"reading\": 158, \"brightness\": 2}, {\"datetime\": \"2021-11-15T17:05:21.883000\", \"reading\": 144, \"brightness\": 4}, {\"datetime\": \"2021-11-15T17:22:28.781000\", \"reading\": 144, \"brightness\": 6}, {\"datetime\": \"2021-11-15T17:23:26.298000\", \"reading\": 146, \"brightness\": 8}, {\"datetime\": \"2021-11-16T09:08:33.545000\", \"reading\": 535, \"brightness\": 5}, {\"datetime\": \"2021-11-16T09:11:08.364000\", \"reading\": 175, \"brightness\": 4}, {\"datetime\": \"2021-11-16T10:07:46.302000\", \"reading\": 193, \"brightness\": 3}, {\"datetime\": \"2021-11-18T20:24:27.381000\", \"reading\": 151, \"brightness\": 8}, {\"datetime\": \"2021-11-19T10:50:59.076000\", \"reading\": 844, \"brightness\": 4}, {\"datetime\": \"2021-11-20T15:54:44.664000\", \"reading\": 1065, \"brightness\": 8}, {\"datetime\": \"2021-11-20T15:57:01.496000\", \"reading\": 207, \"brightness\": 6}, {\"datetime\": \"2021-11-20T16:27:52.701000\", \"reading\": 167, \"brightness\": 4}, {\"datetime\": \"2021-11-20T21:20:51.888000\", \"reading\": 785, \"brightness\": 2}, {\"datetime\": \"2021-11-21T15:06:54.598000\", \"reading\": 383, \"brightness\": 4}, {\"datetime\": \"2021-11-21T15:12:35.363000\", \"reading\": 224, \"brightness\": 5}, {\"datetime\": \"2021-11-22T18:05:38.775000\", \"reading\": 741, \"brightness\": 5}, {\"datetime\": \"2022-05-15T12:45:56.401000\", \"reading\": 525, \"brightness\": 40}, {\"datetime\": \"2022-05-15T12:46:10.192000\", \"reading\": 526, \"brightness\": 40}, {\"datetime\": \"2022-05-15T13:06:39.722000\", \"reading\": 550, \"brightness\": 34}]}}, {\"mode\": \"vega-lite\"});\n",
       "</script>"
      ],
      "text/plain": [
       "alt.Chart(...)"
      ]
     },
     "execution_count": 16,
     "metadata": {},
     "output_type": "execute_result"
    }
   ],
   "source": [
    "chart = (\n",
    "    alt.Chart(\n",
    "        data,\n",
    "        title='Raw measurements',\n",
    "    )\n",
    "    .mark_point()\n",
    "    .encode(\n",
    "        alt.X('reading', scale=alt.Scale(clamp=True), title='Sensor reading'),\n",
    "        alt.Y('brightness', scale=alt.Scale(clamp=True), title='Brightness setting')\n",
    "    )\n",
    "    .interactive()\n",
    ")\n",
    "chart.save('raw-measurements.json')\n",
    "chart"
   ]
  },
  {
   "cell_type": "code",
   "execution_count": 28,
   "id": "5f074abf-dd67-4d0d-a362-99fdd283edb0",
   "metadata": {},
   "outputs": [
    {
     "data": {
      "text/plain": [
       "0      9.274167\n",
       "1     12.726111\n",
       "2     12.833889\n",
       "3     14.295278\n",
       "4     14.708056\n",
       "        ...    \n",
       "19    15.209722\n",
       "20    18.093889\n",
       "21    12.765556\n",
       "22    12.769444\n",
       "23    13.110833\n",
       "Name: hour, Length: 128, dtype: float64"
      ]
     },
     "execution_count": 28,
     "metadata": {},
     "output_type": "execute_result"
    }
   ],
   "source": [
    "data['hour'] = [x.hour + x.minute / 60 + x.second / 3600 for x in data['datetime']]\n",
    "data['hour']"
   ]
  },
  {
   "cell_type": "code",
   "execution_count": 33,
   "id": "b50ec24d-588b-4b74-bef4-5333ddb6a571",
   "metadata": {},
   "outputs": [
    {
     "data": {
      "text/html": [
       "\n",
       "<div id=\"altair-viz-0511d282ee2d4c5a881d6fa3fd792fe9\"></div>\n",
       "<script type=\"text/javascript\">\n",
       "  (function(spec, embedOpt){\n",
       "    let outputDiv = document.currentScript.previousElementSibling;\n",
       "    if (outputDiv.id !== \"altair-viz-0511d282ee2d4c5a881d6fa3fd792fe9\") {\n",
       "      outputDiv = document.getElementById(\"altair-viz-0511d282ee2d4c5a881d6fa3fd792fe9\");\n",
       "    }\n",
       "    const paths = {\n",
       "      \"vega\": \"https://cdn.jsdelivr.net/npm//vega@5?noext\",\n",
       "      \"vega-lib\": \"https://cdn.jsdelivr.net/npm//vega-lib?noext\",\n",
       "      \"vega-lite\": \"https://cdn.jsdelivr.net/npm//vega-lite@4.17.0?noext\",\n",
       "      \"vega-embed\": \"https://cdn.jsdelivr.net/npm//vega-embed@6?noext\",\n",
       "    };\n",
       "\n",
       "    function loadScript(lib) {\n",
       "      return new Promise(function(resolve, reject) {\n",
       "        var s = document.createElement('script');\n",
       "        s.src = paths[lib];\n",
       "        s.async = true;\n",
       "        s.onload = () => resolve(paths[lib]);\n",
       "        s.onerror = () => reject(`Error loading script: ${paths[lib]}`);\n",
       "        document.getElementsByTagName(\"head\")[0].appendChild(s);\n",
       "      });\n",
       "    }\n",
       "\n",
       "    function showError(err) {\n",
       "      outputDiv.innerHTML = `<div class=\"error\" style=\"color:red;\">${err}</div>`;\n",
       "      throw err;\n",
       "    }\n",
       "\n",
       "    function displayChart(vegaEmbed) {\n",
       "      vegaEmbed(outputDiv, spec, embedOpt)\n",
       "        .catch(err => showError(`Javascript Error: ${err.message}<br>This usually means there's a typo in your chart specification. See the javascript console for the full traceback.`));\n",
       "    }\n",
       "\n",
       "    if(typeof define === \"function\" && define.amd) {\n",
       "      requirejs.config({paths});\n",
       "      require([\"vega-embed\"], displayChart, err => showError(`Error loading script: ${err.message}`));\n",
       "    } else if (typeof vegaEmbed === \"function\") {\n",
       "      displayChart(vegaEmbed);\n",
       "    } else {\n",
       "      loadScript(\"vega\")\n",
       "        .then(() => loadScript(\"vega-lite\"))\n",
       "        .then(() => loadScript(\"vega-embed\"))\n",
       "        .catch(showError)\n",
       "        .then(() => displayChart(vegaEmbed));\n",
       "    }\n",
       "  })({\"config\": {\"view\": {\"continuousWidth\": 400, \"continuousHeight\": 300}}, \"data\": {\"name\": \"data-e7c048146725aa519b40dc2ce3426be9\"}, \"mark\": \"point\", \"encoding\": {\"color\": {\"field\": \"hour\", \"scale\": {\"scheme\": \"turbo\"}, \"title\": \"Hour\", \"type\": \"quantitative\"}, \"tooltip\": [{\"field\": \"reading\", \"title\": \"Sensor reading\", \"type\": \"quantitative\"}, {\"field\": \"brightness\", \"title\": \"Brightness setting\", \"type\": \"quantitative\"}, {\"field\": \"datetime\", \"title\": \"Date\", \"type\": \"temporal\"}, {\"field\": \"hour\", \"title\": \"Hour\", \"type\": \"quantitative\"}], \"x\": {\"field\": \"reading\", \"scale\": {\"clamp\": true}, \"title\": \"Sensor reading\", \"type\": \"quantitative\"}, \"y\": {\"field\": \"brightness\", \"scale\": {\"clamp\": true}, \"title\": \"Brightness setting\", \"type\": \"quantitative\"}}, \"selection\": {\"selector012\": {\"type\": \"interval\", \"bind\": \"scales\", \"encodings\": [\"x\", \"y\"]}}, \"title\": \"Raw measurements\", \"$schema\": \"https://vega.github.io/schema/vega-lite/v4.17.0.json\", \"datasets\": {\"data-e7c048146725aa519b40dc2ce3426be9\": [{\"datetime\": \"2021-11-17T09:16:27.733000\", \"reading\": 359, \"brightness\": 11, \"time\": 9.274166666666668, \"hour\": 9.274166666666668}, {\"datetime\": \"2021-11-17T12:43:34.860000\", \"reading\": 279, \"brightness\": 9, \"time\": 12.726111111111111, \"hour\": 12.726111111111111}, {\"datetime\": \"2021-11-17T12:50:02.146000\", \"reading\": 273, \"brightness\": 8, \"time\": 12.83388888888889, \"hour\": 12.83388888888889}, {\"datetime\": \"2021-11-17T14:17:43.697000\", \"reading\": 291, \"brightness\": 7, \"time\": 14.295277777777777, \"hour\": 14.295277777777777}, {\"datetime\": \"2021-11-17T14:42:29.204000\", \"reading\": 197, \"brightness\": 6, \"time\": 14.708055555555555, \"hour\": 14.708055555555555}, {\"datetime\": \"2021-11-18T10:16:26.214000\", \"reading\": 752, \"brightness\": 15, \"time\": 10.273888888888889, \"hour\": 10.273888888888889}, {\"datetime\": \"2021-11-18T10:19:40.657000\", \"reading\": 745, \"brightness\": 12, \"time\": 10.327777777777778, \"hour\": 10.327777777777778}, {\"datetime\": \"2021-11-18T10:23:10.472000\", \"reading\": 886, \"brightness\": 16, \"time\": 10.386111111111111, \"hour\": 10.386111111111111}, {\"datetime\": \"2021-11-18T10:29:02.072000\", \"reading\": 1570, \"brightness\": 31, \"time\": 10.483888888888888, \"hour\": 10.483888888888888}, {\"datetime\": \"2021-11-18T10:29:23.584000\", \"reading\": 1465, \"brightness\": 26, \"time\": 10.489722222222222, \"hour\": 10.489722222222222}, {\"datetime\": \"2021-11-18T10:35:17.819000\", \"reading\": 1475, \"brightness\": 33, \"time\": 10.588055555555556, \"hour\": 10.588055555555556}, {\"datetime\": \"2021-11-18T13:01:46.839000\", \"reading\": 420, \"brightness\": 27, \"time\": 13.029444444444445, \"hour\": 13.029444444444445}, {\"datetime\": \"2021-11-18T13:02:07.333000\", \"reading\": 426, \"brightness\": 22, \"time\": 13.035277777777777, \"hour\": 13.035277777777777}, {\"datetime\": \"2021-11-18T13:02:54.452000\", \"reading\": 437, \"brightness\": 14, \"time\": 13.048333333333334, \"hour\": 13.048333333333334}, {\"datetime\": \"2021-11-18T13:34:28.914000\", \"reading\": 595, \"brightness\": 18, \"time\": 13.574444444444444, \"hour\": 13.574444444444444}, {\"datetime\": \"2021-11-18T13:41:13.511000\", \"reading\": 489, \"brightness\": 20, \"time\": 13.686944444444444, \"hour\": 13.686944444444444}, {\"datetime\": \"2021-11-18T14:33:48.004000\", \"reading\": 322, \"brightness\": 11, \"time\": 14.563333333333334, \"hour\": 14.563333333333334}, {\"datetime\": \"2021-11-18T15:31:53.416000\", \"reading\": 209, \"brightness\": 8, \"time\": 15.53138888888889, \"hour\": 15.53138888888889}, {\"datetime\": \"2021-11-18T19:18:27.289000\", \"reading\": 158, \"brightness\": 10, \"time\": 19.3075, \"hour\": 19.3075}, {\"datetime\": \"2021-11-18T20:15:39.392000\", \"reading\": 152, \"brightness\": 7, \"time\": 20.260833333333334, \"hour\": 20.260833333333334}, {\"datetime\": \"2022-03-11T12:42:28.401000\", \"reading\": 5790, \"brightness\": 28, \"time\": 12.707777777777777, \"hour\": 12.707777777777777}, {\"datetime\": \"2022-03-11T12:43:20.135000\", \"reading\": 747, \"brightness\": 35, \"time\": 12.722222222222223, \"hour\": 12.722222222222223}, {\"datetime\": \"2022-03-11T12:52:17.164000\", \"reading\": 785, \"brightness\": 35, \"time\": 12.87138888888889, \"hour\": 12.87138888888889}, {\"datetime\": \"2022-03-11T16:57:12.798000\", \"reading\": 379, \"brightness\": 18, \"time\": 16.953333333333333, \"hour\": 16.953333333333333}, {\"datetime\": \"2022-03-11T17:10:46.891000\", \"reading\": 215, \"brightness\": 14, \"time\": 17.179444444444446, \"hour\": 17.179444444444446}, {\"datetime\": \"2022-03-11T18:05:58.741000\", \"reading\": 183, \"brightness\": 10, \"time\": 18.099444444444444, \"hour\": 18.099444444444444}, {\"datetime\": \"2022-03-14T12:03:02.955000\", \"reading\": 794, \"brightness\": 35, \"time\": 12.050555555555556, \"hour\": 12.050555555555556}, {\"datetime\": \"2022-03-14T13:03:19.302000\", \"reading\": 569, \"brightness\": 29, \"time\": 13.055277777777778, \"hour\": 13.055277777777778}, {\"datetime\": \"2022-03-14T17:14:45.580000\", \"reading\": 464, \"brightness\": 25, \"time\": 17.245833333333334, \"hour\": 17.245833333333334}, {\"datetime\": \"2022-03-15T13:37:51.671000\", \"reading\": 307, \"brightness\": 14, \"time\": 13.630833333333333, \"hour\": 13.630833333333333}, {\"datetime\": \"2022-03-15T14:50:38.990000\", \"reading\": 624, \"brightness\": 25, \"time\": 14.84388888888889, \"hour\": 14.84388888888889}, {\"datetime\": \"2022-03-16T07:30:30.938000\", \"reading\": 533, \"brightness\": 24, \"time\": 7.508333333333334, \"hour\": 7.508333333333334}, {\"datetime\": \"2022-03-16T07:59:51.606000\", \"reading\": 1240, \"brightness\": 36, \"time\": 7.9975000000000005, \"hour\": 7.9975000000000005}, {\"datetime\": \"2022-03-16T08:13:11.192000\", \"reading\": 2684, \"brightness\": 57, \"time\": 8.219722222222222, \"hour\": 8.219722222222222}, {\"datetime\": \"2022-03-16T08:15:59.615000\", \"reading\": 3526, \"brightness\": 77, \"time\": 8.266388888888889, \"hour\": 8.266388888888889}, {\"datetime\": \"2022-03-16T08:27:20.681000\", \"reading\": 6237, \"brightness\": 88, \"time\": 8.455555555555556, \"hour\": 8.455555555555556}, {\"datetime\": \"2022-03-16T08:28:54.537000\", \"reading\": 6509, \"brightness\": 100, \"time\": 8.481666666666667, \"hour\": 8.481666666666667}, {\"datetime\": \"2022-03-16T11:06:27.544000\", \"reading\": 1986, \"brightness\": 40, \"time\": 11.1075, \"hour\": 11.1075}, {\"datetime\": \"2022-03-16T11:06:42.843000\", \"reading\": 1970, \"brightness\": 70, \"time\": 11.111666666666666, \"hour\": 11.111666666666666}, {\"datetime\": \"2022-03-16T11:13:28.185000\", \"reading\": 1752, \"brightness\": 48, \"time\": 11.224444444444444, \"hour\": 11.224444444444444}, {\"datetime\": \"2022-03-16T13:14:21.054000\", \"reading\": 1049, \"brightness\": 38, \"time\": 13.239166666666666, \"hour\": 13.239166666666666}, {\"datetime\": \"2022-03-16T13:18:49.124000\", \"reading\": 1084, \"brightness\": 30, \"time\": 13.313611111111111, \"hour\": 13.313611111111111}, {\"datetime\": \"2022-03-16T13:20:10.469000\", \"reading\": 1083, \"brightness\": 37, \"time\": 13.336111111111112, \"hour\": 13.336111111111112}, {\"datetime\": \"2022-03-16T13:49:07.107000\", \"reading\": 870, \"brightness\": 24, \"time\": 13.81861111111111, \"hour\": 13.81861111111111}, {\"datetime\": \"2022-03-16T16:18:49.818000\", \"reading\": 343, \"brightness\": 13, \"time\": 16.31361111111111, \"hour\": 16.31361111111111}, {\"datetime\": \"2022-03-17T09:38:41.096000\", \"reading\": 298, \"brightness\": 8, \"time\": 9.64472222222222, \"hour\": 9.64472222222222}, {\"datetime\": \"2022-03-17T10:09:41\", \"reading\": 378, \"brightness\": 15, \"time\": 10.161388888888888, \"hour\": 10.161388888888888}, {\"datetime\": \"2022-03-17T10:10:13.514000\", \"reading\": 383, \"brightness\": 13, \"time\": 10.170277777777777, \"hour\": 10.170277777777777}, {\"datetime\": \"2022-03-17T10:51:11.006000\", \"reading\": 280, \"brightness\": 10, \"time\": 10.853055555555555, \"hour\": 10.853055555555555}, {\"datetime\": \"2022-03-17T12:40:59.489000\", \"reading\": 594, \"brightness\": 23, \"time\": 12.683055555555555, \"hour\": 12.683055555555555}, {\"datetime\": \"2022-03-17T12:41:56.967000\", \"reading\": 621, \"brightness\": 17, \"time\": 12.69888888888889, \"hour\": 12.69888888888889}, {\"datetime\": \"2022-03-17T13:56:18.278000\", \"reading\": 983, \"brightness\": 27, \"time\": 13.938333333333334, \"hour\": 13.938333333333334}, {\"datetime\": \"2022-03-17T14:32:27.809000\", \"reading\": 508, \"brightness\": 21, \"time\": 14.540833333333333, \"hour\": 14.540833333333333}, {\"datetime\": \"2022-03-17T15:04:00.106000\", \"reading\": 423, \"brightness\": 15, \"time\": 15.066666666666666, \"hour\": 15.066666666666666}, {\"datetime\": \"2022-03-18T15:40:07.126000\", \"reading\": 970, \"brightness\": 54, \"time\": 15.66861111111111, \"hour\": 15.66861111111111}, {\"datetime\": \"2022-03-18T15:41:29.953000\", \"reading\": 996, \"brightness\": 48, \"time\": 15.69138888888889, \"hour\": 15.69138888888889}, {\"datetime\": \"2022-03-18T17:50:00.693000\", \"reading\": 226, \"brightness\": 28, \"time\": 17.833333333333332, \"hour\": 17.833333333333332}, {\"datetime\": \"2022-03-21T15:18:21.328000\", \"reading\": 1029, \"brightness\": 46, \"time\": 15.305833333333334, \"hour\": 15.305833333333334}, {\"datetime\": \"2022-03-21T17:05:31.505000\", \"reading\": 500, \"brightness\": 25, \"time\": 17.091944444444444, \"hour\": 17.091944444444444}, {\"datetime\": \"2022-03-23T08:52:53.080000\", \"reading\": 8827, \"brightness\": 100, \"time\": 8.881388888888889, \"hour\": 8.881388888888889}, {\"datetime\": \"2022-03-23T10:53:39.256000\", \"reading\": 2357, \"brightness\": 61, \"time\": 10.894166666666667, \"hour\": 10.894166666666667}, {\"datetime\": \"2022-03-23T12:25:30.329000\", \"reading\": 842, \"brightness\": 33, \"time\": 12.424999999999999, \"hour\": 12.424999999999999}, {\"datetime\": \"2022-03-23T13:02:58.771000\", \"reading\": 844, \"brightness\": 24, \"time\": 13.049444444444445, \"hour\": 13.049444444444445}, {\"datetime\": \"2022-03-23T13:04:02.003000\", \"reading\": 873, \"brightness\": 32, \"time\": 13.067222222222222, \"hour\": 13.067222222222222}, {\"datetime\": \"2022-03-23T13:19:25.566000\", \"reading\": 904, \"brightness\": 26, \"time\": 13.323611111111111, \"hour\": 13.323611111111111}, {\"datetime\": \"2022-03-24T14:10:09.499000\", \"reading\": 984, \"brightness\": 48, \"time\": 14.169166666666666, \"hour\": 14.169166666666666}, {\"datetime\": \"2022-03-24T14:15:34.746000\", \"reading\": 1065, \"brightness\": 30, \"time\": 14.259444444444444, \"hour\": 14.259444444444444}, {\"datetime\": \"2022-03-24T15:55:14.676000\", \"reading\": 925, \"brightness\": 25, \"time\": 15.920555555555556, \"hour\": 15.920555555555556}, {\"datetime\": \"2022-03-29T09:48:22.384000\", \"reading\": 1053, \"brightness\": 38, \"time\": 9.806111111111111, \"hour\": 9.806111111111111}, {\"datetime\": \"2022-03-29T09:50:05.660000\", \"reading\": 1131, \"brightness\": 30, \"time\": 9.834722222222222, \"hour\": 9.834722222222222}, {\"datetime\": \"2022-03-29T10:32:04.103000\", \"reading\": 2205, \"brightness\": 56, \"time\": 10.534444444444444, \"hour\": 10.534444444444444}, {\"datetime\": \"2022-03-29T10:50:43.158000\", \"reading\": 2803, \"brightness\": 45, \"time\": 10.845277777777778, \"hour\": 10.845277777777778}, {\"datetime\": \"2022-03-29T11:44:25.752000\", \"reading\": 2626, \"brightness\": 57, \"time\": 11.740277777777777, \"hour\": 11.740277777777777}, {\"datetime\": \"2022-03-30T08:25:12.283000\", \"reading\": 228, \"brightness\": 11, \"time\": 8.42, \"hour\": 8.42}, {\"datetime\": \"2022-03-30T08:45:45.310000\", \"reading\": 410, \"brightness\": 19, \"time\": 8.7625, \"hour\": 8.7625}, {\"datetime\": \"2022-03-30T11:40:38.260000\", \"reading\": 3079, \"brightness\": 76, \"time\": 11.677222222222222, \"hour\": 11.677222222222222}, {\"datetime\": \"2022-03-30T12:00:54.023000\", \"reading\": 2252, \"brightness\": 42, \"time\": 12.015, \"hour\": 12.015}, {\"datetime\": \"2022-03-30T12:01:03.499000\", \"reading\": 2236, \"brightness\": 56, \"time\": 12.0175, \"hour\": 12.0175}, {\"datetime\": \"2022-03-30T13:13:19.537000\", \"reading\": 1505, \"brightness\": 32, \"time\": 13.221944444444444, \"hour\": 13.221944444444444}, {\"datetime\": \"2022-03-30T13:32:14.297000\", \"reading\": 1264, \"brightness\": 49, \"time\": 13.537222222222223, \"hour\": 13.537222222222223}, {\"datetime\": \"2022-03-30T13:41:12.549000\", \"reading\": 1047, \"brightness\": 38, \"time\": 13.686666666666667, \"hour\": 13.686666666666667}, {\"datetime\": \"2022-03-30T14:32:35.058000\", \"reading\": 1276, \"brightness\": 58, \"time\": 14.543055555555556, \"hour\": 14.543055555555556}, {\"datetime\": \"2022-04-01T09:13:30.034000\", \"reading\": 150, \"brightness\": 13, \"time\": 9.225, \"hour\": 9.225}, {\"datetime\": \"2022-04-01T09:54:59.671000\", \"reading\": 245, \"brightness\": 23, \"time\": 9.91638888888889, \"hour\": 9.91638888888889}, {\"datetime\": \"2022-04-01T10:42:34.095000\", \"reading\": 510, \"brightness\": 31, \"time\": 10.709444444444443, \"hour\": 10.709444444444443}, {\"datetime\": \"2022-04-01T13:23:10.189000\", \"reading\": 714, \"brightness\": 43, \"time\": 13.386111111111111, \"hour\": 13.386111111111111}, {\"datetime\": \"2022-04-01T13:24:43.832000\", \"reading\": 730, \"brightness\": 36, \"time\": 13.411944444444444, \"hour\": 13.411944444444444}, {\"datetime\": \"2022-04-01T13:25:44.364000\", \"reading\": 741, \"brightness\": 31, \"time\": 13.428888888888888, \"hour\": 13.428888888888888}, {\"datetime\": \"2022-04-01T13:32:31.111000\", \"reading\": 562, \"brightness\": 27, \"time\": 13.541944444444445, \"hour\": 13.541944444444445}, {\"datetime\": \"2022-04-01T13:42:54.036000\", \"reading\": 536, \"brightness\": 23, \"time\": 13.715, \"hour\": 13.715}, {\"datetime\": \"2022-04-01T13:44:55.413000\", \"reading\": 530, \"brightness\": 21, \"time\": 13.74861111111111, \"hour\": 13.74861111111111}, {\"datetime\": \"2022-04-01T13:46:50.108000\", \"reading\": 551, \"brightness\": 25, \"time\": 13.780555555555557, \"hour\": 13.780555555555557}, {\"datetime\": \"2022-04-01T15:23:53.676000\", \"reading\": 228, \"brightness\": 20, \"time\": 15.398055555555555, \"hour\": 15.398055555555555}, {\"datetime\": \"2022-04-04T13:57:37.079000\", \"reading\": 277, \"brightness\": 21, \"time\": 13.960277777777778, \"hour\": 13.960277777777778}, {\"datetime\": \"2022-04-05T13:31:43.454000\", \"reading\": 838, \"brightness\": 25, \"time\": 13.528611111111111, \"hour\": 13.528611111111111}, {\"datetime\": \"2022-04-05T14:16:02.992000\", \"reading\": 236, \"brightness\": 17, \"time\": 14.267222222222223, \"hour\": 14.267222222222223}, {\"datetime\": \"2022-04-05T16:07:39.954000\", \"reading\": 429, \"brightness\": 22, \"time\": 16.1275, \"hour\": 16.1275}, {\"datetime\": \"2022-04-05T16:08:17.486000\", \"reading\": 418, \"brightness\": 18, \"time\": 16.138055555555557, \"hour\": 16.138055555555557}, {\"datetime\": \"2022-04-05T16:30:06.136000\", \"reading\": 285, \"brightness\": 13, \"time\": 16.501666666666665, \"hour\": 16.501666666666665}, {\"datetime\": \"2022-04-06T11:14:32.408000\", \"reading\": 661, \"brightness\": 15, \"time\": 11.242222222222221, \"hour\": 11.242222222222221}, {\"datetime\": \"2022-04-06T11:27:20.896000\", \"reading\": 500, \"brightness\": 10, \"time\": 11.455555555555556, \"hour\": 11.455555555555556}, {\"datetime\": \"2022-04-06T13:00:17.208000\", \"reading\": 1030, \"brightness\": 25, \"time\": 13.004722222222222, \"hour\": 13.004722222222222}, {\"datetime\": \"2022-04-06T13:06:02.255000\", \"reading\": 1135, \"brightness\": 32, \"time\": 13.100555555555555, \"hour\": 13.100555555555555}, {\"datetime\": \"2022-04-20T08:07:38.144000\", \"reading\": 3752, \"brightness\": 61, \"time\": 8.127222222222223, \"hour\": 8.127222222222223}, {\"datetime\": \"2021-11-14T14:17:10.798000\", \"reading\": 304, \"brightness\": 3, \"time\": 14.286111111111111, \"hour\": 14.286111111111111}, {\"datetime\": \"2021-11-14T14:21:01.168000\", \"reading\": 287, \"brightness\": 3, \"time\": 14.350277777777777, \"hour\": 14.350277777777777}, {\"datetime\": \"2021-11-14T14:28:48.624000\", \"reading\": 261, \"brightness\": 2, \"time\": 14.48, \"hour\": 14.48}, {\"datetime\": \"2021-11-15T09:58:56.036000\", \"reading\": 352, \"brightness\": 2, \"time\": 9.982222222222223, \"hour\": 9.982222222222223}, {\"datetime\": \"2021-11-15T16:06:48.212000\", \"reading\": 191, \"brightness\": 4, \"time\": 16.113333333333333, \"hour\": 16.113333333333333}, {\"datetime\": \"2021-11-15T16:21:03.396000\", \"reading\": 158, \"brightness\": 2, \"time\": 16.350833333333334, \"hour\": 16.350833333333334}, {\"datetime\": \"2021-11-15T17:05:21.883000\", \"reading\": 144, \"brightness\": 4, \"time\": 17.089166666666664, \"hour\": 17.089166666666664}, {\"datetime\": \"2021-11-15T17:22:28.781000\", \"reading\": 144, \"brightness\": 6, \"time\": 17.374444444444446, \"hour\": 17.374444444444446}, {\"datetime\": \"2021-11-15T17:23:26.298000\", \"reading\": 146, \"brightness\": 8, \"time\": 17.390555555555554, \"hour\": 17.390555555555554}, {\"datetime\": \"2021-11-16T09:08:33.545000\", \"reading\": 535, \"brightness\": 5, \"time\": 9.1425, \"hour\": 9.1425}, {\"datetime\": \"2021-11-16T09:11:08.364000\", \"reading\": 175, \"brightness\": 4, \"time\": 9.185555555555556, \"hour\": 9.185555555555556}, {\"datetime\": \"2021-11-16T10:07:46.302000\", \"reading\": 193, \"brightness\": 3, \"time\": 10.129444444444445, \"hour\": 10.129444444444445}, {\"datetime\": \"2021-11-18T20:24:27.381000\", \"reading\": 151, \"brightness\": 8, \"time\": 20.4075, \"hour\": 20.4075}, {\"datetime\": \"2021-11-19T10:50:59.076000\", \"reading\": 844, \"brightness\": 4, \"time\": 10.849722222222223, \"hour\": 10.849722222222223}, {\"datetime\": \"2021-11-20T15:54:44.664000\", \"reading\": 1065, \"brightness\": 8, \"time\": 15.912222222222223, \"hour\": 15.912222222222223}, {\"datetime\": \"2021-11-20T15:57:01.496000\", \"reading\": 207, \"brightness\": 6, \"time\": 15.950277777777776, \"hour\": 15.950277777777776}, {\"datetime\": \"2021-11-20T16:27:52.701000\", \"reading\": 167, \"brightness\": 4, \"time\": 16.464444444444442, \"hour\": 16.464444444444442}, {\"datetime\": \"2021-11-20T21:20:51.888000\", \"reading\": 785, \"brightness\": 2, \"time\": 21.3475, \"hour\": 21.3475}, {\"datetime\": \"2021-11-21T15:06:54.598000\", \"reading\": 383, \"brightness\": 4, \"time\": 15.115, \"hour\": 15.115}, {\"datetime\": \"2021-11-21T15:12:35.363000\", \"reading\": 224, \"brightness\": 5, \"time\": 15.209722222222222, \"hour\": 15.209722222222222}, {\"datetime\": \"2021-11-22T18:05:38.775000\", \"reading\": 741, \"brightness\": 5, \"time\": 18.093888888888888, \"hour\": 18.093888888888888}, {\"datetime\": \"2022-05-15T12:45:56.401000\", \"reading\": 525, \"brightness\": 40, \"time\": 12.765555555555556, \"hour\": 12.765555555555556}, {\"datetime\": \"2022-05-15T12:46:10.192000\", \"reading\": 526, \"brightness\": 40, \"time\": 12.769444444444446, \"hour\": 12.769444444444446}, {\"datetime\": \"2022-05-15T13:06:39.722000\", \"reading\": 550, \"brightness\": 34, \"time\": 13.110833333333334, \"hour\": 13.110833333333334}]}}, {\"mode\": \"vega-lite\"});\n",
       "</script>"
      ],
      "text/plain": [
       "alt.Chart(...)"
      ]
     },
     "execution_count": 33,
     "metadata": {},
     "output_type": "execute_result"
    }
   ],
   "source": [
    "chart = (\n",
    "    alt.Chart(\n",
    "        data,\n",
    "        title='Raw measurements',\n",
    "    )\n",
    "    .mark_point()\n",
    "    .encode(\n",
    "        alt.X('reading', scale=alt.Scale(clamp=True), title='Sensor reading'),\n",
    "        alt.Y('brightness', scale=alt.Scale(clamp=True), title='Brightness setting'),\n",
    "        alt.Color('hour', scale=alt.Scale(scheme='turbo'), title='Hour'),\n",
    "        [\n",
    "            alt.Tooltip('reading', title='Sensor reading'),\n",
    "            alt.Tooltip('brightness', title='Brightness setting'),\n",
    "            alt.Tooltip('datetime', title='Date'),\n",
    "            alt.Tooltip('hour', title='Hour'),\n",
    "        ]\n",
    "    )\n",
    "    .interactive()\n",
    ")\n",
    "chart.save('measurements_time.json')\n",
    "chart"
   ]
  },
  {
   "cell_type": "code",
   "execution_count": 43,
   "id": "8154c12c-dd13-4c09-9961-3ffa4a981f6b",
   "metadata": {},
   "outputs": [],
   "source": [
    "smoothed = loess.loess_1d.loess_1d(np.array(data['reading']), np.array(data['brightness']))"
   ]
  },
  {
   "cell_type": "code",
   "execution_count": 48,
   "id": "1d5de7d6-9ab9-432e-a3ca-98d8b2fe9574",
   "metadata": {},
   "outputs": [],
   "source": [
    "data[\"loess_x\"], data[\"loess_y\"], data[\"loess_w\"] = smoothed\n",
    "data[\"loess_residual\"] = data[\"brightness\"] - data[\"loess_y\"]"
   ]
  },
  {
   "cell_type": "code",
   "execution_count": 66,
   "id": "0998b964-7b12-465c-b698-6457bc066c42",
   "metadata": {},
   "outputs": [
    {
     "data": {
      "text/html": [
       "\n",
       "<div id=\"altair-viz-6ab6971de5c04debb1a7f57c163b7e0d\"></div>\n",
       "<script type=\"text/javascript\">\n",
       "  (function(spec, embedOpt){\n",
       "    let outputDiv = document.currentScript.previousElementSibling;\n",
       "    if (outputDiv.id !== \"altair-viz-6ab6971de5c04debb1a7f57c163b7e0d\") {\n",
       "      outputDiv = document.getElementById(\"altair-viz-6ab6971de5c04debb1a7f57c163b7e0d\");\n",
       "    }\n",
       "    const paths = {\n",
       "      \"vega\": \"https://cdn.jsdelivr.net/npm//vega@5?noext\",\n",
       "      \"vega-lib\": \"https://cdn.jsdelivr.net/npm//vega-lib?noext\",\n",
       "      \"vega-lite\": \"https://cdn.jsdelivr.net/npm//vega-lite@4.17.0?noext\",\n",
       "      \"vega-embed\": \"https://cdn.jsdelivr.net/npm//vega-embed@6?noext\",\n",
       "    };\n",
       "\n",
       "    function loadScript(lib) {\n",
       "      return new Promise(function(resolve, reject) {\n",
       "        var s = document.createElement('script');\n",
       "        s.src = paths[lib];\n",
       "        s.async = true;\n",
       "        s.onload = () => resolve(paths[lib]);\n",
       "        s.onerror = () => reject(`Error loading script: ${paths[lib]}`);\n",
       "        document.getElementsByTagName(\"head\")[0].appendChild(s);\n",
       "      });\n",
       "    }\n",
       "\n",
       "    function showError(err) {\n",
       "      outputDiv.innerHTML = `<div class=\"error\" style=\"color:red;\">${err}</div>`;\n",
       "      throw err;\n",
       "    }\n",
       "\n",
       "    function displayChart(vegaEmbed) {\n",
       "      vegaEmbed(outputDiv, spec, embedOpt)\n",
       "        .catch(err => showError(`Javascript Error: ${err.message}<br>This usually means there's a typo in your chart specification. See the javascript console for the full traceback.`));\n",
       "    }\n",
       "\n",
       "    if(typeof define === \"function\" && define.amd) {\n",
       "      requirejs.config({paths});\n",
       "      require([\"vega-embed\"], displayChart, err => showError(`Error loading script: ${err.message}`));\n",
       "    } else if (typeof vegaEmbed === \"function\") {\n",
       "      displayChart(vegaEmbed);\n",
       "    } else {\n",
       "      loadScript(\"vega\")\n",
       "        .then(() => loadScript(\"vega-lite\"))\n",
       "        .then(() => loadScript(\"vega-embed\"))\n",
       "        .catch(showError)\n",
       "        .then(() => displayChart(vegaEmbed));\n",
       "    }\n",
       "  })({\"config\": {\"view\": {\"continuousWidth\": 400, \"continuousHeight\": 300}}, \"data\": {\"name\": \"data-3e535ae2cba1071df7c2503357cf46ad\"}, \"mark\": \"point\", \"encoding\": {\"color\": {\"field\": \"loess_w\", \"scale\": {\"scheme\": \"blues\"}, \"title\": \"Weight\", \"type\": \"quantitative\"}, \"x\": {\"field\": \"loess_x\", \"scale\": {\"clamp\": true}, \"title\": \"Sensor reading\", \"type\": \"quantitative\"}, \"y\": {\"field\": \"loess_y\", \"scale\": {\"clamp\": true}, \"title\": \"Brightness setting\", \"type\": \"quantitative\"}}, \"selection\": {\"selector031\": {\"type\": \"interval\", \"bind\": \"scales\", \"encodings\": [\"x\", \"y\"]}}, \"title\": \"Loess smoothing\", \"$schema\": \"https://vega.github.io/schema/vega-lite/v4.17.0.json\", \"datasets\": {\"data-3e535ae2cba1071df7c2503357cf46ad\": [{\"datetime\": \"2021-11-17T09:16:27.733000\", \"reading\": 359, \"brightness\": 11, \"time\": 9.274166666666668, \"hour\": 9.274166666666668, \"loess_x\": 359, \"loess_y\": 14.006224672827328, \"loess_w\": 0.951061727937154, \"loess_residual\": -3.0062246728273276}, {\"datetime\": \"2021-11-17T12:43:34.860000\", \"reading\": 279, \"brightness\": 9, \"time\": 12.726111111111111, \"hour\": 12.726111111111111, \"loess_x\": 279, \"loess_y\": 10.702655465378271, \"loess_w\": 0.98440243081871, \"loess_residual\": -1.702655465378271}, {\"datetime\": \"2021-11-17T12:50:02.146000\", \"reading\": 273, \"brightness\": 8, \"time\": 12.83388888888889, \"hour\": 12.83388888888889, \"loess_x\": 273, \"loess_y\": 10.480482574535749, \"loess_w\": 0.9698348439133926, \"loess_residual\": -2.480482574535749}, {\"datetime\": \"2021-11-17T14:17:43.697000\", \"reading\": 291, \"brightness\": 7, \"time\": 14.295277777777777, \"hour\": 14.295277777777777, \"loess_x\": 291, \"loess_y\": 11.09673680903673, \"loess_w\": 0.911995420346461, \"loess_residual\": -4.096736809036731}, {\"datetime\": \"2021-11-17T14:42:29.204000\", \"reading\": 197, \"brightness\": 6, \"time\": 14.708055555555555, \"hour\": 14.708055555555555, \"loess_x\": 197, \"loess_y\": 7.711186193838114, \"loess_w\": 0.9874800119473296, \"loess_residual\": -1.711186193838114}, {\"datetime\": \"2021-11-18T10:16:26.214000\", \"reading\": 752, \"brightness\": 15, \"time\": 10.273888888888889, \"hour\": 10.273888888888889, \"loess_x\": 752, \"loess_y\": 26.15415553044781, \"loess_w\": 0.8235210408935453, \"loess_residual\": -11.15415553044781}, {\"datetime\": \"2021-11-18T10:19:40.657000\", \"reading\": 745, \"brightness\": 12, \"time\": 10.327777777777778, \"hour\": 10.327777777777778, \"loess_x\": 745, \"loess_y\": 25.758193701119932, \"loess_w\": 0.7653230019569665, \"loess_residual\": -13.758193701119932}, {\"datetime\": \"2021-11-18T10:23:10.472000\", \"reading\": 886, \"brightness\": 16, \"time\": 10.386111111111111, \"hour\": 10.386111111111111, \"loess_x\": 886, \"loess_y\": 29.797445524204754, \"loess_w\": 0.6629673577359356, \"loess_residual\": -13.797445524204754}, {\"datetime\": \"2021-11-18T10:29:02.072000\", \"reading\": 1570, \"brightness\": 31, \"time\": 10.483888888888888, \"hour\": 10.483888888888888, \"loess_x\": 1570, \"loess_y\": 40.711968627396246, \"loess_w\": 0.8794075774104192, \"loess_residual\": -9.711968627396246}, {\"datetime\": \"2021-11-18T10:29:23.584000\", \"reading\": 1465, \"brightness\": 26, \"time\": 10.489722222222222, \"hour\": 10.489722222222222, \"loess_x\": 1465, \"loess_y\": 38.729089125147105, \"loess_w\": 0.8076250776649537, \"loess_residual\": -12.729089125147105}, {\"datetime\": \"2021-11-18T10:35:17.819000\", \"reading\": 1475, \"brightness\": 33, \"time\": 10.588055555555556, \"hour\": 10.588055555555556, \"loess_x\": 1475, \"loess_y\": 38.953193030349865, \"loess_w\": 0.9543280943332811, \"loess_residual\": -5.9531930303498655}, {\"datetime\": \"2021-11-18T13:01:46.839000\", \"reading\": 420, \"brightness\": 27, \"time\": 13.029444444444445, \"hour\": 13.029444444444445, \"loess_x\": 420, \"loess_y\": 17.57638704016687, \"loess_w\": 0.6284205924841119, \"loess_residual\": 9.423612959833129}, {\"datetime\": \"2021-11-18T13:02:07.333000\", \"reading\": 426, \"brightness\": 22, \"time\": 13.035277777777777, \"hour\": 13.035277777777777, \"loess_x\": 426, \"loess_y\": 17.863141729678727, \"loess_w\": 0.9173757293553448, \"loess_residual\": 4.136858270321273}, {\"datetime\": \"2021-11-18T13:02:54.452000\", \"reading\": 437, \"brightness\": 14, \"time\": 13.048333333333334, \"hour\": 13.048333333333334, \"loess_x\": 437, \"loess_y\": 18.37870278200257, \"loess_w\": 0.9003614071848787, \"loess_residual\": -4.37870278200257}, {\"datetime\": \"2021-11-18T13:34:28.914000\", \"reading\": 595, \"brightness\": 18, \"time\": 13.574444444444444, \"hour\": 13.574444444444444, \"loess_x\": 595, \"loess_y\": 23.897395395575316, \"loess_w\": 0.9510350449255884, \"loess_residual\": -5.897395395575316}, {\"datetime\": \"2021-11-18T13:41:13.511000\", \"reading\": 489, \"brightness\": 20, \"time\": 13.686944444444444, \"hour\": 13.686944444444444, \"loess_x\": 489, \"loess_y\": 20.923192435172435, \"loess_w\": 0.9966246996118084, \"loess_residual\": -0.9231924351724352}, {\"datetime\": \"2021-11-18T14:33:48.004000\", \"reading\": 322, \"brightness\": 11, \"time\": 14.563333333333334, \"hour\": 14.563333333333334, \"loess_x\": 322, \"loess_y\": 12.335254444054378, \"loess_w\": 0.9893320734163543, \"loess_residual\": -1.335254444054378}, {\"datetime\": \"2021-11-18T15:31:53.416000\", \"reading\": 209, \"brightness\": 8, \"time\": 15.53138888888889, \"hour\": 15.53138888888889, \"loess_x\": 209, \"loess_y\": 8.124508308675589, \"loess_w\": 0.999912148883551, \"loess_residual\": -0.12450830867558871}, {\"datetime\": \"2021-11-18T19:18:27.289000\", \"reading\": 158, \"brightness\": 10, \"time\": 19.3075, \"hour\": 19.3075, \"loess_x\": 158, \"loess_y\": 6.4642750892546665, \"loess_w\": 0.9176594965117674, \"loess_residual\": 3.5357249107453335}, {\"datetime\": \"2021-11-18T20:15:39.392000\", \"reading\": 152, \"brightness\": 7, \"time\": 20.260833333333334, \"hour\": 20.260833333333334, \"loess_x\": 152, \"loess_y\": 6.271592774348328, \"loess_w\": 0.998697252327028, \"loess_residual\": 0.7284072256516723}, {\"datetime\": \"2022-03-11T12:42:28.401000\", \"reading\": 5790, \"brightness\": 28, \"time\": 12.707777777777777, \"hour\": 12.707777777777777, \"loess_x\": 5790, \"loess_y\": 82.77019668229971, \"loess_w\": 0.20888487088350713, \"loess_residual\": -54.77019668229971}, {\"datetime\": \"2022-03-11T12:43:20.135000\", \"reading\": 747, \"brightness\": 35, \"time\": 12.722222222222223, \"hour\": 12.722222222222223, \"loess_x\": 747, \"loess_y\": 25.8546632813852, \"loess_w\": 0.8838101561052832, \"loess_residual\": 9.1453367186148}, {\"datetime\": \"2022-03-11T12:52:17.164000\", \"reading\": 785, \"brightness\": 35, \"time\": 12.87138888888889, \"hour\": 12.87138888888889, \"loess_x\": 785, \"loess_y\": 27.29688325802868, \"loess_w\": 0.2282052275396825, \"loess_residual\": 7.703116741971321}, {\"datetime\": \"2022-03-11T16:57:12.798000\", \"reading\": 379, \"brightness\": 18, \"time\": 16.953333333333333, \"hour\": 16.953333333333333, \"loess_x\": 379, \"loess_y\": 15.21041266973352, \"loess_w\": 0.9636835382397231, \"loess_residual\": 2.78958733026648}, {\"datetime\": \"2022-03-11T17:10:46.891000\", \"reading\": 215, \"brightness\": 14, \"time\": 17.179444444444446, \"hour\": 17.179444444444446, \"loess_x\": 215, \"loess_y\": 8.328134891231345, \"loess_w\": 0.8717271384835683, \"loess_residual\": 5.671865108768655}, {\"datetime\": \"2022-03-11T18:05:58.741000\", \"reading\": 183, \"brightness\": 10, \"time\": 18.099444444444444, \"hour\": 18.099444444444444, \"loess_x\": 183, \"loess_y\": 7.234025317350666, \"loess_w\": 0.9694224191841245, \"loess_residual\": 2.7659746826493343}, {\"datetime\": \"2022-03-14T12:03:02.955000\", \"reading\": 794, \"brightness\": 35, \"time\": 12.050555555555556, \"hour\": 12.050555555555556, \"loess_x\": 794, \"loess_y\": 27.61980178117139, \"loess_w\": 0.8963943736528692, \"loess_residual\": 7.38019821882861}, {\"datetime\": \"2022-03-14T13:03:19.302000\", \"reading\": 569, \"brightness\": 29, \"time\": 13.055277777777778, \"hour\": 13.055277777777778, \"loess_x\": 569, \"loess_y\": 23.567052634017735, \"loess_w\": 0.9473807200857016, \"loess_residual\": 5.432947365982265}, {\"datetime\": \"2022-03-14T17:14:45.580000\", \"reading\": 464, \"brightness\": 25, \"time\": 17.245833333333334, \"hour\": 17.245833333333334, \"loess_x\": 464, \"loess_y\": 19.73862201065381, \"loess_w\": 0.8803245520847834, \"loess_residual\": 5.26137798934619}, {\"datetime\": \"2022-03-15T13:37:51.671000\", \"reading\": 307, \"brightness\": 14, \"time\": 13.630833333333333, \"hour\": 13.630833333333333, \"loess_x\": 307, \"loess_y\": 11.732704160156292, \"loess_w\": 0.9735859507365066, \"loess_residual\": 2.267295839843708}, {\"datetime\": \"2022-03-15T14:50:38.990000\", \"reading\": 624, \"brightness\": 25, \"time\": 14.84388888888889, \"hour\": 14.84388888888889, \"loess_x\": 624, \"loess_y\": 23.733132592742074, \"loess_w\": 0.9975054890233579, \"loess_residual\": 1.2668674072579265}, {\"datetime\": \"2022-03-16T07:30:30.938000\", \"reading\": 533, \"brightness\": 24, \"time\": 7.508333333333334, \"hour\": 7.508333333333334, \"loess_x\": 533, \"loess_y\": 22.84153071999762, \"loess_w\": 0.9943335936524038, \"loess_residual\": 1.1584692800023788}, {\"datetime\": \"2022-03-16T07:59:51.606000\", \"reading\": 1240, \"brightness\": 36, \"time\": 7.9975000000000005, \"hour\": 7.9975000000000005, \"loess_x\": 1240, \"loess_y\": 34.3911267492403, \"loess_w\": 0.9958858183100555, \"loess_residual\": 1.6088732507597001}, {\"datetime\": \"2022-03-16T08:13:11.192000\", \"reading\": 2684, \"brightness\": 57, \"time\": 8.219722222222222, \"hour\": 8.219722222222222, \"loess_x\": 2684, \"loess_y\": 58.03532596282555, \"loess_w\": 0.9985092375190782, \"loess_residual\": -1.035325962825553}, {\"datetime\": \"2022-03-16T08:15:59.615000\", \"reading\": 3526, \"brightness\": 77, \"time\": 8.266388888888889, \"hour\": 8.266388888888889, \"loess_x\": 3526, \"loess_y\": 69.39373975198866, \"loess_w\": 0.9443983459158559, \"loess_residual\": 7.606260248011338}, {\"datetime\": \"2022-03-16T08:27:20.681000\", \"reading\": 6237, \"brightness\": 88, \"time\": 8.455555555555556, \"hour\": 8.455555555555556, \"loess_x\": 6237, \"loess_y\": 85.38455478757571, \"loess_w\": 0.9971514236933731, \"loess_residual\": 2.615445212424291}, {\"datetime\": \"2022-03-16T08:28:54.537000\", \"reading\": 6509, \"brightness\": 100, \"time\": 8.481666666666667, \"hour\": 8.481666666666667, \"loess_x\": 6509, \"loess_y\": 87.08349329786475, \"loess_w\": 0.9435390529695143, \"loess_residual\": 12.916506702135251}, {\"datetime\": \"2022-03-16T11:06:27.544000\", \"reading\": 1986, \"brightness\": 40, \"time\": 11.1075, \"hour\": 11.1075, \"loess_x\": 1986, \"loess_y\": 47.08718532386601, \"loess_w\": 0.9295856123417009, \"loess_residual\": -7.087185323866009}, {\"datetime\": \"2022-03-16T11:06:42.843000\", \"reading\": 1970, \"brightness\": 70, \"time\": 11.111666666666666, \"hour\": 11.111666666666666, \"loess_x\": 1970, \"loess_y\": 46.835386654064685, \"loess_w\": 0.4055120202115027, \"loess_residual\": 23.164613345935315}, {\"datetime\": \"2022-03-16T11:13:28.185000\", \"reading\": 1752, \"brightness\": 48, \"time\": 11.224444444444444, \"hour\": 11.224444444444444, \"loess_x\": 1752, \"loess_y\": 43.85744439849704, \"loess_w\": 0.9780907655169931, \"loess_residual\": 4.142555601502963}, {\"datetime\": \"2022-03-16T13:14:21.054000\", \"reading\": 1049, \"brightness\": 38, \"time\": 13.239166666666666, \"hour\": 13.239166666666666, \"loess_x\": 1049, \"loess_y\": 33.510579735517844, \"loess_w\": 0.968048812284641, \"loess_residual\": 4.489420264482156}, {\"datetime\": \"2022-03-16T13:18:49.124000\", \"reading\": 1084, \"brightness\": 30, \"time\": 13.313611111111111, \"hour\": 13.313611111111111, \"loess_x\": 1084, \"loess_y\": 33.52971930111339, \"loess_w\": 0.9817921617653758, \"loess_residual\": -3.5297193011133885}, {\"datetime\": \"2022-03-16T13:20:10.469000\", \"reading\": 1083, \"brightness\": 37, \"time\": 13.336111111111112, \"hour\": 13.336111111111112, \"loess_x\": 1083, \"loess_y\": 33.52934739987405, \"loess_w\": 0.9823866371774864, \"loess_residual\": 3.470652600125952}, {\"datetime\": \"2022-03-16T13:49:07.107000\", \"reading\": 870, \"brightness\": 24, \"time\": 13.81861111111111, \"hour\": 13.81861111111111, \"loess_x\": 870, \"loess_y\": 29.42348277081314, \"loess_w\": 0.944955243439788, \"loess_residual\": -5.423482770813141}, {\"datetime\": \"2022-03-16T16:18:49.818000\", \"reading\": 343, \"brightness\": 13, \"time\": 16.31361111111111, \"hour\": 16.31361111111111, \"loess_x\": 343, \"loess_y\": 13.224709620662228, \"loess_w\": 0.9993045050407825, \"loess_residual\": -0.2247096206622281}, {\"datetime\": \"2022-03-17T09:38:41.096000\", \"reading\": 298, \"brightness\": 8, \"time\": 9.64472222222222, \"hour\": 9.64472222222222, \"loess_x\": 298, \"loess_y\": 11.37644148715636, \"loess_w\": 0.9398228426621209, \"loess_residual\": -3.3764414871563595}, {\"datetime\": \"2022-03-17T10:09:41\", \"reading\": 378, \"brightness\": 15, \"time\": 10.161388888888888, \"hour\": 10.161388888888888, \"loess_x\": 378, \"loess_y\": 15.141902469403083, \"loess_w\": 0.9999204420256166, \"loess_residual\": -0.1419024694030835}, {\"datetime\": \"2022-03-17T10:10:13.514000\", \"reading\": 383, \"brightness\": 13, \"time\": 10.170277777777777, \"hour\": 10.170277777777777, \"loess_x\": 383, \"loess_y\": 15.480483413988518, \"loess_w\": 0.9728540897213073, \"loess_residual\": -2.4804834139885177}, {\"datetime\": \"2022-03-17T10:51:11.006000\", \"reading\": 280, \"brightness\": 10, \"time\": 10.853055555555555, \"hour\": 10.853055555555555, \"loess_x\": 280, \"loess_y\": 10.739904973874541, \"loess_w\": 0.996340494479011, \"loess_residual\": -0.7399049738745411}, {\"datetime\": \"2022-03-17T12:40:59.489000\", \"reading\": 594, \"brightness\": 23, \"time\": 12.683055555555555, \"hour\": 12.683055555555555, \"loess_x\": 594, \"loess_y\": 23.885820237065147, \"loess_w\": 0.9989796525873444, \"loess_residual\": -0.8858202370651469}, {\"datetime\": \"2022-03-17T12:41:56.967000\", \"reading\": 621, \"brightness\": 17, \"time\": 12.69888888888889, \"hour\": 12.69888888888889, \"loess_x\": 621, \"loess_y\": 23.779079633652096, \"loess_w\": 0.9441055243769173, \"loess_residual\": -6.7790796336520955}, {\"datetime\": \"2022-03-17T13:56:18.278000\", \"reading\": 983, \"brightness\": 27, \"time\": 13.938333333333334, \"hour\": 13.938333333333334, \"loess_x\": 983, \"loess_y\": 32.20444625465636, \"loess_w\": 0.9737867516742773, \"loess_residual\": -5.204446254656361}, {\"datetime\": \"2022-03-17T14:32:27.809000\", \"reading\": 508, \"brightness\": 21, \"time\": 14.540833333333333, \"hour\": 14.540833333333333, \"loess_x\": 508, \"loess_y\": 21.77833561982004, \"loess_w\": 0.9983570502508144, \"loess_residual\": -0.7783356198200408}, {\"datetime\": \"2022-03-17T15:04:00.106000\", \"reading\": 423, \"brightness\": 15, \"time\": 15.066666666666666, \"hour\": 15.066666666666666, \"loess_x\": 423, \"loess_y\": 17.72098267497058, \"loess_w\": 0.9655731056427111, \"loess_residual\": -2.7209826749705783}, {\"datetime\": \"2022-03-18T15:40:07.126000\", \"reading\": 970, \"brightness\": 54, \"time\": 15.66861111111111, \"hour\": 15.66861111111111, \"loess_x\": 970, \"loess_y\": 31.81313613538042, \"loess_w\": 0.5618364003989473, \"loess_residual\": 22.18686386461958}, {\"datetime\": \"2022-03-18T15:41:29.953000\", \"reading\": 996, \"brightness\": 48, \"time\": 15.69138888888889, \"hour\": 15.69138888888889, \"loess_x\": 996, \"loess_y\": 32.553670227640865, \"loess_w\": 0.7710467390986411, \"loess_residual\": 15.446329772359135}, {\"datetime\": \"2022-03-18T17:50:00.693000\", \"reading\": 226, \"brightness\": 28, \"time\": 17.833333333333332, \"hour\": 17.833333333333332, \"loess_x\": 226, \"loess_y\": 8.706103255616373, \"loess_w\": 0.04528615990795171, \"loess_residual\": 19.293896744383627}, {\"datetime\": \"2022-03-21T15:18:21.328000\", \"reading\": 1029, \"brightness\": 46, \"time\": 15.305833333333334, \"hour\": 15.305833333333334, \"loess_x\": 1029, \"loess_y\": 33.190966961263115, \"loess_w\": 0.8375882525457685, \"loess_residual\": 12.809033038736885}, {\"datetime\": \"2022-03-21T17:05:31.505000\", \"reading\": 500, \"brightness\": 25, \"time\": 17.091944444444444, \"hour\": 17.091944444444444, \"loess_x\": 500, \"loess_y\": 21.485973429540095, \"loess_w\": 0.5375862522014253, \"loess_residual\": 3.5140265704599045}, {\"datetime\": \"2022-03-23T08:52:53.080000\", \"reading\": 8827, \"brightness\": 100, \"time\": 8.881388888888889, \"hour\": 8.881388888888889, \"loess_x\": 8827, \"loess_y\": 103.73919177131867, \"loess_w\": 0.9969374236021601, \"loess_residual\": -3.739191771318673}, {\"datetime\": \"2022-03-23T10:53:39.256000\", \"reading\": 2357, \"brightness\": 61, \"time\": 10.894166666666667, \"hour\": 10.894166666666667, \"loess_x\": 2357, \"loess_y\": 53.404433425759436, \"loess_w\": 0.9337246865723168, \"loess_residual\": 7.595566574240564}, {\"datetime\": \"2022-03-23T12:25:30.329000\", \"reading\": 842, \"brightness\": 33, \"time\": 12.424999999999999, \"hour\": 12.424999999999999, \"loess_x\": 842, \"loess_y\": 28.8758424023829, \"loess_w\": 0.963256924216716, \"loess_residual\": 4.124157597617099}, {\"datetime\": \"2022-03-23T13:02:58.771000\", \"reading\": 844, \"brightness\": 24, \"time\": 13.049444444444445, \"hour\": 13.049444444444445, \"loess_x\": 844, \"loess_y\": 28.903381945384588, \"loess_w\": 0.9553236692756589, \"loess_residual\": -4.903381945384588}, {\"datetime\": \"2022-03-23T13:04:02.003000\", \"reading\": 873, \"brightness\": 32, \"time\": 13.067222222222222, \"hour\": 13.067222222222222, \"loess_x\": 873, \"loess_y\": 29.489443767466973, \"loess_w\": 0.9860912671066497, \"loess_residual\": 2.510556232533027}, {\"datetime\": \"2022-03-23T13:19:25.566000\", \"reading\": 904, \"brightness\": 26, \"time\": 13.323611111111111, \"hour\": 13.323611111111111, \"loess_x\": 904, \"loess_y\": 30.091509184149857, \"loess_w\": 0.9733970335551915, \"loess_residual\": -4.0915091841498565}, {\"datetime\": \"2022-03-24T14:10:09.499000\", \"reading\": 984, \"brightness\": 48, \"time\": 14.169166666666666, \"hour\": 14.169166666666666, \"loess_x\": 984, \"loess_y\": 32.232954119074684, \"loess_w\": 0.7632544492564275, \"loess_residual\": 15.767045880925316}, {\"datetime\": \"2022-03-24T14:15:34.746000\", \"reading\": 1065, \"brightness\": 30, \"time\": 14.259444444444444, \"hour\": 14.259444444444444, \"loess_x\": 1065, \"loess_y\": 33.53352160168657, \"loess_w\": 0.9811106456238847, \"loess_residual\": -3.533521601686573}, {\"datetime\": \"2022-03-24T15:55:14.676000\", \"reading\": 925, \"brightness\": 25, \"time\": 15.920555555555556, \"hour\": 15.920555555555556, \"loess_x\": 925, \"loess_y\": 30.75228569610229, \"loess_w\": 0.9458723049240266, \"loess_residual\": -5.752285696102291}, {\"datetime\": \"2022-03-29T09:48:22.384000\", \"reading\": 1053, \"brightness\": 38, \"time\": 9.806111111111111, \"hour\": 9.806111111111111, \"loess_x\": 1053, \"loess_y\": 33.52646325611077, \"loess_w\": 0.9678031373218758, \"loess_residual\": 4.473536743889227}, {\"datetime\": \"2022-03-29T09:50:05.660000\", \"reading\": 1131, \"brightness\": 30, \"time\": 9.834722222222222, \"hour\": 9.834722222222222, \"loess_x\": 1131, \"loess_y\": 33.672634266263415, \"loess_w\": 0.9826219311612341, \"loess_residual\": -3.6726342662634153}, {\"datetime\": \"2022-03-29T10:32:04.103000\", \"reading\": 2205, \"brightness\": 56, \"time\": 10.534444444444444, \"hour\": 10.534444444444444, \"loess_x\": 2205, \"loess_y\": 50.91445579285011, \"loess_w\": 0.9700554028810985, \"loess_residual\": 5.085544207149887}, {\"datetime\": \"2022-03-29T10:50:43.158000\", \"reading\": 2803, \"brightness\": 45, \"time\": 10.845277777777778, \"hour\": 10.845277777777778, \"loess_x\": 2803, \"loess_y\": 59.691301940072655, \"loess_w\": 0.7242664419379168, \"loess_residual\": -14.691301940072655}, {\"datetime\": \"2022-03-29T11:44:25.752000\", \"reading\": 2626, \"brightness\": 57, \"time\": 11.740277777777777, \"hour\": 11.740277777777777, \"loess_x\": 2626, \"loess_y\": 57.23018359375523, \"loess_w\": 0.9999313999510133, \"loess_residual\": -0.23018359375522834}, {\"datetime\": \"2022-03-30T08:25:12.283000\", \"reading\": 228, \"brightness\": 11, \"time\": 8.42, \"hour\": 8.42, \"loess_x\": 228, \"loess_y\": 8.775972937618121, \"loess_w\": 0.5375783451784522, \"loess_residual\": 2.2240270623818787}, {\"datetime\": \"2022-03-30T08:45:45.310000\", \"reading\": 410, \"brightness\": 19, \"time\": 8.7625, \"hour\": 8.7625, \"loess_x\": 410, \"loess_y\": 17.080289645688836, \"loess_w\": 0.9843977439951473, \"loess_residual\": 1.9197103543111638}, {\"datetime\": \"2022-03-30T11:40:38.260000\", \"reading\": 3079, \"brightness\": 76, \"time\": 11.677222222222222, \"hour\": 11.677222222222222, \"loess_x\": 3079, \"loess_y\": 63.52567253364252, \"loess_w\": 0.8251562364240144, \"loess_residual\": 12.47432746635748}, {\"datetime\": \"2022-03-30T12:00:54.023000\", \"reading\": 2252, \"brightness\": 42, \"time\": 12.015, \"hour\": 12.015, \"loess_x\": 2252, \"loess_y\": 51.729979362291715, \"loess_w\": 0.8920132825725063, \"loess_residual\": -9.729979362291715}, {\"datetime\": \"2022-03-30T12:01:03.499000\", \"reading\": 2236, \"brightness\": 56, \"time\": 12.0175, \"hour\": 12.0175, \"loess_x\": 2236, \"loess_y\": 51.457089248490206, \"loess_w\": 0.9760750176954004, \"loess_residual\": 4.542910751509794}, {\"datetime\": \"2022-03-30T13:13:19.537000\", \"reading\": 1505, \"brightness\": 32, \"time\": 13.221944444444444, \"hour\": 13.221944444444444, \"loess_x\": 1505, \"loess_y\": 39.61227054181248, \"loess_w\": 0.9302619606665798, \"loess_residual\": -7.612270541812478}, {\"datetime\": \"2022-03-30T13:32:14.297000\", \"reading\": 1264, \"brightness\": 49, \"time\": 13.537222222222223, \"hour\": 13.537222222222223, \"loess_x\": 1264, \"loess_y\": 34.662916524306574, \"loess_w\": 0.7052066136559703, \"loess_residual\": 14.337083475693426}, {\"datetime\": \"2022-03-30T13:41:12.549000\", \"reading\": 1047, \"brightness\": 38, \"time\": 13.686666666666667, \"hour\": 13.686666666666667, \"loess_x\": 1047, \"loess_y\": 33.41321449699965, \"loess_w\": 0.9727637250562059, \"loess_residual\": 4.58678550300035}, {\"datetime\": \"2022-03-30T14:32:35.058000\", \"reading\": 1276, \"brightness\": 58, \"time\": 14.543055555555556, \"hour\": 14.543055555555556, \"loess_x\": 1276, \"loess_y\": 34.8102361073876, \"loess_w\": 0.33735940975900763, \"loess_residual\": 23.189763892612397}, {\"datetime\": \"2022-04-01T09:13:30.034000\", \"reading\": 150, \"brightness\": 13, \"time\": 9.225, \"hour\": 9.225, \"loess_x\": 150, \"loess_y\": 6.207594327545011, \"loess_w\": 0.8349378526373264, \"loess_residual\": 6.792405672454989}, {\"datetime\": \"2022-04-01T09:54:59.671000\", \"reading\": 245, \"brightness\": 23, \"time\": 9.91638888888889, \"hour\": 9.91638888888889, \"loess_x\": 245, \"loess_y\": 9.419346856331316, \"loess_w\": 0.3651382596029231, \"loess_residual\": 13.580653143668684}, {\"datetime\": \"2022-04-01T10:42:34.095000\", \"reading\": 510, \"brightness\": 31, \"time\": 10.709444444444443, \"hour\": 10.709444444444443, \"loess_x\": 510, \"loess_y\": 21.853050784850673, \"loess_w\": 0.7105058602510461, \"loess_residual\": 9.146949215149327}, {\"datetime\": \"2022-04-01T13:23:10.189000\", \"reading\": 714, \"brightness\": 43, \"time\": 13.386111111111111, \"hour\": 13.386111111111111, \"loess_x\": 714, \"loess_y\": 24.816016975828603, \"loess_w\": 0.6939686338972155, \"loess_residual\": 18.183983024171397}, {\"datetime\": \"2022-04-01T13:24:43.832000\", \"reading\": 730, \"brightness\": 36, \"time\": 13.411944444444444, \"hour\": 13.411944444444444, \"loess_x\": 730, \"loess_y\": 25.123499949520358, \"loess_w\": 0.8760523836884596, \"loess_residual\": 10.876500050479642}, {\"datetime\": \"2022-04-01T13:25:44.364000\", \"reading\": 741, \"brightness\": 31, \"time\": 13.428888888888888, \"hour\": 13.428888888888888, \"loess_x\": 741, \"loess_y\": 25.56196636087009, \"loess_w\": 0.5438434829797835, \"loess_residual\": 5.438033639129909}, {\"datetime\": \"2022-04-01T13:32:31.111000\", \"reading\": 562, \"brightness\": 27, \"time\": 13.541944444444445, \"hour\": 13.541944444444445, \"loess_x\": 562, \"loess_y\": 23.498324080332033, \"loess_w\": 0.9733193410392076, \"loess_residual\": 3.501675919667967}, {\"datetime\": \"2022-04-01T13:42:54.036000\", \"reading\": 536, \"brightness\": 23, \"time\": 13.715, \"hour\": 13.715, \"loess_x\": 536, \"loess_y\": 23.06605242406803, \"loess_w\": 0.9999963614669104, \"loess_residual\": -0.06605242406802958}, {\"datetime\": \"2022-04-01T13:44:55.413000\", \"reading\": 530, \"brightness\": 21, \"time\": 13.74861111111111, \"hour\": 13.74861111111111, \"loess_x\": 530, \"loess_y\": 22.707960594244025, \"loess_w\": 0.9922975328299914, \"loess_residual\": -1.7079605942440246}, {\"datetime\": \"2022-04-01T13:46:50.108000\", \"reading\": 551, \"brightness\": 25, \"time\": 13.780555555555557, \"hour\": 13.780555555555557, \"loess_x\": 551, \"loess_y\": 23.06931174287146, \"loess_w\": 0.9901379525606879, \"loess_residual\": 1.9306882571285406}, {\"datetime\": \"2022-04-01T15:23:53.676000\", \"reading\": 228, \"brightness\": 20, \"time\": 15.398055555555555, \"hour\": 15.398055555555555, \"loess_x\": 228, \"loess_y\": 8.775972937618121, \"loess_w\": 0.5375783451784522, \"loess_residual\": 11.224027062381879}, {\"datetime\": \"2022-04-04T13:57:37.079000\", \"reading\": 277, \"brightness\": 21, \"time\": 13.960277777777778, \"hour\": 13.960277777777778, \"loess_x\": 277, \"loess_y\": 10.628345379453359, \"loess_w\": 0.5867028602745278, \"loess_residual\": 10.371654620546641}, {\"datetime\": \"2022-04-05T13:31:43.454000\", \"reading\": 838, \"brightness\": 25, \"time\": 13.528611111111111, \"hour\": 13.528611111111111, \"loess_x\": 838, \"loess_y\": 28.789092753776927, \"loess_w\": 0.9727669946438057, \"loess_residual\": -3.7890927537769272}, {\"datetime\": \"2022-04-05T14:16:02.992000\", \"reading\": 236, \"brightness\": 17, \"time\": 14.267222222222223, \"hour\": 14.267222222222223, \"loess_x\": 236, \"loess_y\": 9.057976119971531, \"loess_w\": 0.747952276674581, \"loess_residual\": 7.942023880028469}, {\"datetime\": \"2022-04-05T16:07:39.954000\", \"reading\": 429, \"brightness\": 22, \"time\": 16.1275, \"hour\": 16.1275, \"loess_x\": 429, \"loess_y\": 18.003145409430246, \"loess_w\": 0.9206859982952543, \"loess_residual\": 3.996854590569754}, {\"datetime\": \"2022-04-05T16:08:17.486000\", \"reading\": 418, \"brightness\": 18, \"time\": 16.138055555555557, \"hour\": 16.138055555555557, \"loess_x\": 418, \"loess_y\": 17.478400545215877, \"loess_w\": 0.998654576400843, \"loess_residual\": 0.5215994547841234}, {\"datetime\": \"2022-04-05T16:30:06.136000\", \"reading\": 285, \"brightness\": 13, \"time\": 16.501666666666665, \"hour\": 16.501666666666665, \"loess_x\": 285, \"loess_y\": 10.871900922429042, \"loess_w\": 0.9788189786741359, \"loess_residual\": 2.1280990775709583}, {\"datetime\": \"2022-04-06T11:14:32.408000\", \"reading\": 661, \"brightness\": 15, \"time\": 11.242222222222221, \"hour\": 11.242222222222221, \"loess_x\": 661, \"loess_y\": 24.00475791375964, \"loess_w\": 0.9159474886627066, \"loess_residual\": -9.00475791375964}, {\"datetime\": \"2022-04-06T11:27:20.896000\", \"reading\": 500, \"brightness\": 10, \"time\": 11.455555555555556, \"hour\": 11.455555555555556, \"loess_x\": 500, \"loess_y\": 21.485973429540095, \"loess_w\": 0.5375862522014253, \"loess_residual\": -11.485973429540095}, {\"datetime\": \"2022-04-06T13:00:17.208000\", \"reading\": 1030, \"brightness\": 25, \"time\": 13.004722222222222, \"hour\": 13.004722222222222, \"loess_x\": 1030, \"loess_y\": 33.20609069726053, \"loess_w\": 0.9330074274070396, \"loess_residual\": -8.206090697260528}, {\"datetime\": \"2022-04-06T13:06:02.255000\", \"reading\": 1135, \"brightness\": 32, \"time\": 13.100555555555555, \"hour\": 13.100555555555555, \"loess_x\": 1135, \"loess_y\": 33.68258148744035, \"loess_w\": 0.9962940815615536, \"loess_residual\": -1.682581487440352}, {\"datetime\": \"2022-04-20T08:07:38.144000\", \"reading\": 3752, \"brightness\": 61, \"time\": 8.127222222222223, \"hour\": 8.127222222222223, \"loess_x\": 3752, \"loess_y\": 70.60165428516807, \"loess_w\": 0.9467497801567163, \"loess_residual\": -9.601654285168067}, {\"datetime\": \"2021-11-14T14:17:10.798000\", \"reading\": 304, \"brightness\": 3, \"time\": 14.286111111111111, \"hour\": 14.286111111111111, \"loess_x\": 304, \"loess_y\": 11.610636971906953, \"loess_w\": 0.6342072878164481, \"loess_residual\": -8.610636971906953}, {\"datetime\": \"2021-11-14T14:21:01.168000\", \"reading\": 287, \"brightness\": 3, \"time\": 14.350277777777777, \"hour\": 14.350277777777777, \"loess_x\": 287, \"loess_y\": 10.946424372391439, \"loess_w\": 0.7033961695330322, \"loess_residual\": -7.946424372391439}, {\"datetime\": \"2021-11-14T14:28:48.624000\", \"reading\": 261, \"brightness\": 2, \"time\": 14.48, \"hour\": 14.48, \"loess_x\": 261, \"loess_y\": 10.025085503487142, \"loess_w\": 0.7299331028119581, \"loess_residual\": -8.025085503487142}, {\"datetime\": \"2021-11-15T09:58:56.036000\", \"reading\": 352, \"brightness\": 2, \"time\": 9.982222222222223, \"hour\": 9.982222222222223, \"loess_x\": 352, \"loess_y\": 13.52036364033038, \"loess_w\": 0.3959636595025422, \"loess_residual\": -11.52036364033038}, {\"datetime\": \"2021-11-15T16:06:48.212000\", \"reading\": 191, \"brightness\": 4, \"time\": 16.113333333333333, \"hour\": 16.113333333333333, \"loess_x\": 191, \"loess_y\": 7.505767630211968, \"loess_w\": 0.9486412477102614, \"loess_residual\": -3.5057676302119676}, {\"datetime\": \"2021-11-15T16:21:03.396000\", \"reading\": 158, \"brightness\": 2, \"time\": 16.350833333333334, \"hour\": 16.350833333333334, \"loess_x\": 158, \"loess_y\": 6.4642750892546665, \"loess_w\": 0.9176594965117674, \"loess_residual\": -4.4642750892546665}, {\"datetime\": \"2021-11-15T17:05:21.883000\", \"reading\": 144, \"brightness\": 4, \"time\": 17.089166666666664, \"hour\": 17.089166666666664, \"loess_x\": 144, \"loess_y\": 6.016266917179545, \"loess_w\": 0.9818815197326518, \"loess_residual\": -2.0162669171795446}, {\"datetime\": \"2021-11-15T17:22:28.781000\", \"reading\": 144, \"brightness\": 6, \"time\": 17.374444444444446, \"hour\": 17.374444444444446, \"loess_x\": 144, \"loess_y\": 6.016266917179545, \"loess_w\": 0.9818815197326518, \"loess_residual\": -0.01626691717954465}, {\"datetime\": \"2021-11-15T17:23:26.298000\", \"reading\": 146, \"brightness\": 8, \"time\": 17.390555555555554, \"hour\": 17.390555555555554, \"loess_x\": 146, \"loess_y\": 6.079934427606405, \"loess_w\": 0.9878124225326692, \"loess_residual\": 1.9200655723935949}, {\"datetime\": \"2021-11-16T09:08:33.545000\", \"reading\": 535, \"brightness\": 5, \"time\": 9.1425, \"hour\": 9.1425, \"loess_x\": 535, \"loess_y\": 23.01806591490218, \"loess_w\": 0.22789440987389809, \"loess_residual\": -18.01806591490218}, {\"datetime\": \"2021-11-16T09:11:08.364000\", \"reading\": 175, \"brightness\": 4, \"time\": 9.185555555555556, \"hour\": 9.185555555555556, \"loess_x\": 175, \"loess_y\": 6.964623535152969, \"loess_w\": 0.9623775588523494, \"loess_residual\": -2.9646235351529686}, {\"datetime\": \"2021-11-16T10:07:46.302000\", \"reading\": 193, \"brightness\": 3, \"time\": 10.129444444444445, \"hour\": 10.129444444444445, \"loess_x\": 193, \"loess_y\": 7.574082833258295, \"loess_w\": 0.9139490503225038, \"loess_residual\": -4.574082833258295}, {\"datetime\": \"2021-11-18T20:24:27.381000\", \"reading\": 151, \"brightness\": 8, \"time\": 20.4075, \"hour\": 20.4075, \"loess_x\": 151, \"loess_y\": 6.239579286463133, \"loess_w\": 0.9898889379732287, \"loess_residual\": 1.7604207135368668}, {\"datetime\": \"2021-11-19T10:50:59.076000\", \"reading\": 844, \"brightness\": 4, \"time\": 10.849722222222223, \"hour\": 10.849722222222223, \"loess_x\": 844, \"loess_y\": 28.903381945384588, \"loess_w\": 0.9553236692756589, \"loess_residual\": -24.903381945384588}, {\"datetime\": \"2021-11-20T15:54:44.664000\", \"reading\": 1065, \"brightness\": 8, \"time\": 15.912222222222223, \"hour\": 15.912222222222223, \"loess_x\": 1065, \"loess_y\": 33.53352160168657, \"loess_w\": 0.9811106456238847, \"loess_residual\": -25.533521601686573}, {\"datetime\": \"2021-11-20T15:57:01.496000\", \"reading\": 207, \"brightness\": 6, \"time\": 15.950277777777776, \"hour\": 15.950277777777776, \"loess_x\": 207, \"loess_y\": 8.05580327810965, \"loess_w\": 0.9822974372612898, \"loess_residual\": -2.05580327810965}, {\"datetime\": \"2021-11-20T16:27:52.701000\", \"reading\": 167, \"brightness\": 4, \"time\": 16.464444444444442, \"hour\": 16.464444444444442, \"loess_x\": 167, \"loess_y\": 6.702118066734069, \"loess_w\": 0.968691249284178, \"loess_residual\": -2.7021180667340694}, {\"datetime\": \"2021-11-20T21:20:51.888000\", \"reading\": 785, \"brightness\": 2, \"time\": 21.3475, \"hour\": 21.3475, \"loess_x\": 785, \"loess_y\": 27.29688325802868, \"loess_w\": 0.2282052275396825, \"loess_residual\": -25.29688325802868}, {\"datetime\": \"2021-11-21T15:06:54.598000\", \"reading\": 383, \"brightness\": 4, \"time\": 15.115, \"hour\": 15.115, \"loess_x\": 383, \"loess_y\": 15.480483413988518, \"loess_w\": 0.9728540897213073, \"loess_residual\": -11.480483413988518}, {\"datetime\": \"2021-11-21T15:12:35.363000\", \"reading\": 224, \"brightness\": 5, \"time\": 15.209722222222222, \"hour\": 15.209722222222222, \"loess_x\": 224, \"loess_y\": 8.63647597923381, \"loess_w\": 0.9442134364680506, \"loess_residual\": -3.6364759792338095}, {\"datetime\": \"2021-11-22T18:05:38.775000\", \"reading\": 741, \"brightness\": 5, \"time\": 18.093888888888888, \"hour\": 18.093888888888888, \"loess_x\": 741, \"loess_y\": 25.56196636087009, \"loess_w\": 0.5438434829797835, \"loess_residual\": -20.56196636087009}, {\"datetime\": \"2022-05-15T12:45:56.401000\", \"reading\": 525, \"brightness\": 40, \"time\": 12.765555555555556, \"hour\": 12.765555555555556, \"loess_x\": 525, \"loess_y\": 22.52178136461334, \"loess_w\": 0.21383778269307163, \"loess_residual\": 17.47821863538666}, {\"datetime\": \"2022-05-15T12:46:10.192000\", \"reading\": 526, \"brightness\": 40, \"time\": 12.769444444444446, \"hour\": 12.769444444444446, \"loess_x\": 526, \"loess_y\": 22.55769200490713, \"loess_w\": 0.2226044169347426, \"loess_residual\": 17.44230799509287}, {\"datetime\": \"2022-05-15T13:06:39.722000\", \"reading\": 550, \"brightness\": 34, \"time\": 13.110833333333334, \"hour\": 13.110833333333334, \"loess_x\": 550, \"loess_y\": 23.03474513033951, \"loess_w\": 0.7615126461351076, \"loess_residual\": 10.965254869660491}]}}, {\"mode\": \"vega-lite\"});\n",
       "</script>"
      ],
      "text/plain": [
       "alt.Chart(...)"
      ]
     },
     "execution_count": 66,
     "metadata": {},
     "output_type": "execute_result"
    }
   ],
   "source": [
    "chart = (\n",
    "    alt.Chart(\n",
    "        data,\n",
    "        title='Loess smoothing',\n",
    "    )\n",
    "    .mark_point()\n",
    "    .encode(\n",
    "        alt.X('loess_x', scale=alt.Scale(clamp=True), title='Sensor reading'),\n",
    "        alt.Y('loess_y', scale=alt.Scale(clamp=True), title='Brightness setting'),\n",
    "        alt.Color('loess_w', scale=alt.Scale(scheme='blues'), title='Weight'),\n",
    "    )\n",
    "    .interactive()\n",
    ")\n",
    "chart.save('loess.json')\n",
    "chart"
   ]
  },
  {
   "cell_type": "code",
   "execution_count": 74,
   "id": "0635a3e6-f73e-4b1e-ac7a-af017300c3e5",
   "metadata": {},
   "outputs": [],
   "source": [
    "def model(x, a, b, c):\n",
    "    return a + b * x + c * x**2\n",
    "\n",
    "popt, pconv = scipy.optimize.curve_fit(model, data['reading'].to_numpy(), data['brightness'].to_numpy(), p0=[1, 1, 1])"
   ]
  },
  {
   "cell_type": "code",
   "execution_count": 75,
   "id": "c2f3bb2a-10c2-4ce2-bada-822c932be450",
   "metadata": {},
   "outputs": [
    {
     "data": {
      "text/plain": [
       "array([ 7.71442008e+00,  2.31382812e-02, -1.65268073e-06])"
      ]
     },
     "execution_count": 75,
     "metadata": {},
     "output_type": "execute_result"
    }
   ],
   "source": [
    "popt"
   ]
  },
  {
   "cell_type": "code",
   "execution_count": 79,
   "id": "ed991677-0025-45e2-bcbc-e24df629d48b",
   "metadata": {},
   "outputs": [],
   "source": [
    "x = np.linspace(0, 12000, 100)\n",
    "y = model(x, *popt)\n",
    "fit_df = pd.DataFrame(dict(x=x, y=y))"
   ]
  },
  {
   "cell_type": "code",
   "execution_count": 82,
   "id": "c452cdc0-2c75-4003-8b5d-83d918ac31d4",
   "metadata": {},
   "outputs": [
    {
     "data": {
      "text/html": [
       "\n",
       "<div id=\"altair-viz-d5db17e43466456480d5534818a7eb9d\"></div>\n",
       "<script type=\"text/javascript\">\n",
       "  (function(spec, embedOpt){\n",
       "    let outputDiv = document.currentScript.previousElementSibling;\n",
       "    if (outputDiv.id !== \"altair-viz-d5db17e43466456480d5534818a7eb9d\") {\n",
       "      outputDiv = document.getElementById(\"altair-viz-d5db17e43466456480d5534818a7eb9d\");\n",
       "    }\n",
       "    const paths = {\n",
       "      \"vega\": \"https://cdn.jsdelivr.net/npm//vega@5?noext\",\n",
       "      \"vega-lib\": \"https://cdn.jsdelivr.net/npm//vega-lib?noext\",\n",
       "      \"vega-lite\": \"https://cdn.jsdelivr.net/npm//vega-lite@4.17.0?noext\",\n",
       "      \"vega-embed\": \"https://cdn.jsdelivr.net/npm//vega-embed@6?noext\",\n",
       "    };\n",
       "\n",
       "    function loadScript(lib) {\n",
       "      return new Promise(function(resolve, reject) {\n",
       "        var s = document.createElement('script');\n",
       "        s.src = paths[lib];\n",
       "        s.async = true;\n",
       "        s.onload = () => resolve(paths[lib]);\n",
       "        s.onerror = () => reject(`Error loading script: ${paths[lib]}`);\n",
       "        document.getElementsByTagName(\"head\")[0].appendChild(s);\n",
       "      });\n",
       "    }\n",
       "\n",
       "    function showError(err) {\n",
       "      outputDiv.innerHTML = `<div class=\"error\" style=\"color:red;\">${err}</div>`;\n",
       "      throw err;\n",
       "    }\n",
       "\n",
       "    function displayChart(vegaEmbed) {\n",
       "      vegaEmbed(outputDiv, spec, embedOpt)\n",
       "        .catch(err => showError(`Javascript Error: ${err.message}<br>This usually means there's a typo in your chart specification. See the javascript console for the full traceback.`));\n",
       "    }\n",
       "\n",
       "    if(typeof define === \"function\" && define.amd) {\n",
       "      requirejs.config({paths});\n",
       "      require([\"vega-embed\"], displayChart, err => showError(`Error loading script: ${err.message}`));\n",
       "    } else if (typeof vegaEmbed === \"function\") {\n",
       "      displayChart(vegaEmbed);\n",
       "    } else {\n",
       "      loadScript(\"vega\")\n",
       "        .then(() => loadScript(\"vega-lite\"))\n",
       "        .then(() => loadScript(\"vega-embed\"))\n",
       "        .catch(showError)\n",
       "        .then(() => displayChart(vegaEmbed));\n",
       "    }\n",
       "  })({\"config\": {\"view\": {\"continuousWidth\": 400, \"continuousHeight\": 300}}, \"data\": {\"name\": \"data-6f3cfed0c732f23051575be59b820752\"}, \"mark\": \"line\", \"encoding\": {\"x\": {\"field\": \"x\", \"scale\": {\"clamp\": true}, \"title\": \"Sensor reading\", \"type\": \"quantitative\"}, \"y\": {\"field\": \"y\", \"scale\": {\"clamp\": true}, \"title\": \"Brightness setting\", \"type\": \"quantitative\"}}, \"selection\": {\"selector034\": {\"type\": \"interval\", \"bind\": \"scales\", \"encodings\": [\"x\", \"y\"]}}, \"title\": \"Curve fit\", \"$schema\": \"https://vega.github.io/schema/vega-lite/v4.17.0.json\", \"datasets\": {\"data-6f3cfed0c732f23051575be59b820752\": [{\"x\": 0.0, \"y\": 7.71442008245181}, {\"x\": 121.21212121212122, \"y\": 10.49477841947742}, {\"x\": 242.42424242424244, \"y\": 13.226573135350263}, {\"x\": 363.6363636363636, \"y\": 15.909804230070339}, {\"x\": 484.8484848484849, \"y\": 18.544471703637647}, {\"x\": 606.0606060606061, \"y\": 21.130575556052193}, {\"x\": 727.2727272727273, \"y\": 23.668115787313965}, {\"x\": 848.4848484848485, \"y\": 26.157092397422975}, {\"x\": 969.6969696969697, \"y\": 28.59750538637922}, {\"x\": 1090.909090909091, \"y\": 30.9893547541827}, {\"x\": 1212.1212121212122, \"y\": 33.332640500833406}, {\"x\": 1333.3333333333335, \"y\": 35.62736262633135}, {\"x\": 1454.5454545454545, \"y\": 37.873521130676515}, {\"x\": 1575.7575757575758, \"y\": 40.07111601386892}, {\"x\": 1696.969696969697, \"y\": 42.22014727590856}, {\"x\": 1818.1818181818182, \"y\": 44.320614916795435}, {\"x\": 1939.3939393939395, \"y\": 46.37251893652954}, {\"x\": 2060.6060606060605, \"y\": 48.37585933511088}, {\"x\": 2181.818181818182, \"y\": 50.33063611253946}, {\"x\": 2303.030303030303, \"y\": 52.236849268815256}, {\"x\": 2424.2424242424245, \"y\": 54.0944988039383}, {\"x\": 2545.4545454545455, \"y\": 55.90358471790857}, {\"x\": 2666.666666666667, \"y\": 57.664107010726084}, {\"x\": 2787.878787878788, \"y\": 59.376065682390816}, {\"x\": 2909.090909090909, \"y\": 61.039460732902775}, {\"x\": 3030.3030303030305, \"y\": 62.65429216226198}, {\"x\": 3151.5151515151515, \"y\": 64.22055997046841}, {\"x\": 3272.727272727273, \"y\": 65.7382641575221}, {\"x\": 3393.939393939394, \"y\": 67.207404723423}, {\"x\": 3515.1515151515155, \"y\": 68.62798166817113}, {\"x\": 3636.3636363636365, \"y\": 69.99999499176648}, {\"x\": 3757.575757575758, \"y\": 71.32344469420909}, {\"x\": 3878.787878787879, \"y\": 72.59833077549892}, {\"x\": 4000.0, \"y\": 73.824653235636}, {\"x\": 4121.212121212121, \"y\": 75.00241207462031}, {\"x\": 4242.424242424243, \"y\": 76.13160729245185}, {\"x\": 4363.636363636364, \"y\": 77.2122388891306}, {\"x\": 4484.848484848485, \"y\": 78.24430686465661}, {\"x\": 4606.060606060606, \"y\": 79.22781121902983}, {\"x\": 4727.272727272728, \"y\": 80.16275195225032}, {\"x\": 4848.484848484849, \"y\": 81.04912906431801}, {\"x\": 4969.69696969697, \"y\": 81.88694255523293}, {\"x\": 5090.909090909091, \"y\": 82.6761924249951}, {\"x\": 5212.121212121212, \"y\": 83.41687867360451}, {\"x\": 5333.333333333334, \"y\": 84.10900130106113}, {\"x\": 5454.545454545455, \"y\": 84.75256030736499}, {\"x\": 5575.757575757576, \"y\": 85.34755569251611}, {\"x\": 5696.969696969697, \"y\": 85.89398745651444}, {\"x\": 5818.181818181818, \"y\": 86.39185559935999}, {\"x\": 5939.39393939394, \"y\": 86.8411601210528}, {\"x\": 6060.606060606061, \"y\": 87.24190102159282}, {\"x\": 6181.818181818182, \"y\": 87.59407830098009}, {\"x\": 6303.030303030303, \"y\": 87.89769195921457}, {\"x\": 6424.242424242425, \"y\": 88.15274199629631}, {\"x\": 6545.454545454546, \"y\": 88.35922841222528}, {\"x\": 6666.666666666667, \"y\": 88.51715120700146}, {\"x\": 6787.878787878788, \"y\": 88.6265103806249}, {\"x\": 6909.090909090909, \"y\": 88.68730593309554}, {\"x\": 7030.303030303031, \"y\": 88.69953786441344}, {\"x\": 7151.515151515152, \"y\": 88.66320617457858}, {\"x\": 7272.727272727273, \"y\": 88.57831086359091}, {\"x\": 7393.939393939394, \"y\": 88.44485193145053}, {\"x\": 7515.151515151516, \"y\": 88.26282937815733}, {\"x\": 7636.363636363637, \"y\": 88.0322432037114}, {\"x\": 7757.575757575758, \"y\": 87.75309340811269}, {\"x\": 7878.787878787879, \"y\": 87.42537999136125}, {\"x\": 8000.0, \"y\": 87.049102953457}, {\"x\": 8121.212121212122, \"y\": 86.6242622944}, {\"x\": 8242.424242424242, \"y\": 86.15085801419022}, {\"x\": 8363.636363636364, \"y\": 85.62889011282766}, {\"x\": 8484.848484848486, \"y\": 85.05835859031237}, {\"x\": 8606.060606060606, \"y\": 84.43926344664428}, {\"x\": 8727.272727272728, \"y\": 83.77160468182343}, {\"x\": 8848.484848484848, \"y\": 83.05538229584982}, {\"x\": 8969.69696969697, \"y\": 82.29059628872346}, {\"x\": 9090.909090909092, \"y\": 81.47724666044431}, {\"x\": 9212.121212121212, \"y\": 80.61533341101239}, {\"x\": 9333.333333333334, \"y\": 79.70485654042773}, {\"x\": 9454.545454545456, \"y\": 78.74581604869027}, {\"x\": 9575.757575757576, \"y\": 77.73821193580005}, {\"x\": 9696.969696969698, \"y\": 76.68204420175707}, {\"x\": 9818.181818181818, \"y\": 75.57731284656134}, {\"x\": 9939.39393939394, \"y\": 74.42401787021282}, {\"x\": 10060.606060606062, \"y\": 73.22215927271154}, {\"x\": 10181.818181818182, \"y\": 71.97173705405748}, {\"x\": 10303.030303030304, \"y\": 70.67275121425067}, {\"x\": 10424.242424242424, \"y\": 69.32520175329111}, {\"x\": 10545.454545454546, \"y\": 67.92908867117873}, {\"x\": 10666.666666666668, \"y\": 66.48441196791362}, {\"x\": 10787.878787878788, \"y\": 64.99117164349573}, {\"x\": 10909.09090909091, \"y\": 63.449367697925084}, {\"x\": 11030.30303030303, \"y\": 61.85900013120167}, {\"x\": 11151.515151515152, \"y\": 60.22006894332549}, {\"x\": 11272.727272727274, \"y\": 58.53257413429654}, {\"x\": 11393.939393939394, \"y\": 56.796515704114825}, {\"x\": 11515.151515151516, \"y\": 55.011893652780316}, {\"x\": 11636.363636363636, \"y\": 53.17870798029307}, {\"x\": 11757.575757575758, \"y\": 51.296958686653085}, {\"x\": 11878.78787878788, \"y\": 49.36664577186025}, {\"x\": 12000.0, \"y\": 47.38776923591473}]}}, {\"mode\": \"vega-lite\"});\n",
       "</script>"
      ],
      "text/plain": [
       "alt.Chart(...)"
      ]
     },
     "execution_count": 82,
     "metadata": {},
     "output_type": "execute_result"
    }
   ],
   "source": [
    "chart = (\n",
    "    alt.Chart(\n",
    "        fit_df,\n",
    "        title='Curve fit',\n",
    "    )\n",
    "    .mark_line()\n",
    "    .encode(\n",
    "        alt.X('x', scale=alt.Scale(clamp=True), title='Sensor reading'),\n",
    "        alt.Y('y', scale=alt.Scale(clamp=True), title='Brightness setting'),\n",
    "    )\n",
    "    .interactive()\n",
    ")\n",
    "chart.save('fit.json')\n",
    "chart"
   ]
  },
  {
   "cell_type": "code",
   "execution_count": 97,
   "id": "1b4f48b0-6418-4dd7-bdce-b6d53571e47e",
   "metadata": {},
   "outputs": [
    {
     "data": {
      "text/html": [
       "\n",
       "<div id=\"altair-viz-4781046a01714953b856cbc8d21f8bc1\"></div>\n",
       "<script type=\"text/javascript\">\n",
       "  (function(spec, embedOpt){\n",
       "    let outputDiv = document.currentScript.previousElementSibling;\n",
       "    if (outputDiv.id !== \"altair-viz-4781046a01714953b856cbc8d21f8bc1\") {\n",
       "      outputDiv = document.getElementById(\"altair-viz-4781046a01714953b856cbc8d21f8bc1\");\n",
       "    }\n",
       "    const paths = {\n",
       "      \"vega\": \"https://cdn.jsdelivr.net/npm//vega@5?noext\",\n",
       "      \"vega-lib\": \"https://cdn.jsdelivr.net/npm//vega-lib?noext\",\n",
       "      \"vega-lite\": \"https://cdn.jsdelivr.net/npm//vega-lite@4.17.0?noext\",\n",
       "      \"vega-embed\": \"https://cdn.jsdelivr.net/npm//vega-embed@6?noext\",\n",
       "    };\n",
       "\n",
       "    function loadScript(lib) {\n",
       "      return new Promise(function(resolve, reject) {\n",
       "        var s = document.createElement('script');\n",
       "        s.src = paths[lib];\n",
       "        s.async = true;\n",
       "        s.onload = () => resolve(paths[lib]);\n",
       "        s.onerror = () => reject(`Error loading script: ${paths[lib]}`);\n",
       "        document.getElementsByTagName(\"head\")[0].appendChild(s);\n",
       "      });\n",
       "    }\n",
       "\n",
       "    function showError(err) {\n",
       "      outputDiv.innerHTML = `<div class=\"error\" style=\"color:red;\">${err}</div>`;\n",
       "      throw err;\n",
       "    }\n",
       "\n",
       "    function displayChart(vegaEmbed) {\n",
       "      vegaEmbed(outputDiv, spec, embedOpt)\n",
       "        .catch(err => showError(`Javascript Error: ${err.message}<br>This usually means there's a typo in your chart specification. See the javascript console for the full traceback.`));\n",
       "    }\n",
       "\n",
       "    if(typeof define === \"function\" && define.amd) {\n",
       "      requirejs.config({paths});\n",
       "      require([\"vega-embed\"], displayChart, err => showError(`Error loading script: ${err.message}`));\n",
       "    } else if (typeof vegaEmbed === \"function\") {\n",
       "      displayChart(vegaEmbed);\n",
       "    } else {\n",
       "      loadScript(\"vega\")\n",
       "        .then(() => loadScript(\"vega-lite\"))\n",
       "        .then(() => loadScript(\"vega-embed\"))\n",
       "        .catch(showError)\n",
       "        .then(() => displayChart(vegaEmbed));\n",
       "    }\n",
       "  })({\"config\": {\"view\": {\"continuousWidth\": 400, \"continuousHeight\": 300}}, \"data\": {\"name\": \"data-e0dd63529806d0dbf427f0d6c8e90f92\"}, \"mark\": \"line\", \"encoding\": {\"x\": {\"field\": \"x\", \"title\": \"Sensor reading\", \"type\": \"quantitative\"}, \"y\": {\"field\": \"y\", \"title\": \"Brightness setting\", \"type\": \"quantitative\"}}, \"selection\": {\"selector043\": {\"type\": \"interval\", \"bind\": \"scales\", \"encodings\": [\"x\", \"y\"]}}, \"title\": \"Interpolation\", \"$schema\": \"https://vega.github.io/schema/vega-lite/v4.17.0.json\", \"datasets\": {\"data-e0dd63529806d0dbf427f0d6c8e90f92\": [{\"x\": 0.0, \"y\": 0.0}, {\"x\": 90.9090909090909, \"y\": 3.2034036644655717}, {\"x\": 181.8181818181818, \"y\": 6.3708315245188265}, {\"x\": 272.72727272727275, \"y\": 9.502283580159764}, {\"x\": 363.6363636363636, \"y\": 13.073231085722476}, {\"x\": 454.5454545454545, \"y\": 18.454380154497176}, {\"x\": 545.4545454545455, \"y\": 22.583765687719122}, {\"x\": 636.3636363636364, \"y\": 23.292326335162706}, {\"x\": 727.2727272727273, \"y\": 24.526035741374752}, {\"x\": 818.1818181818181, \"y\": 27.212949993734057}, {\"x\": 909.090909090909, \"y\": 30.304482883026566}, {\"x\": 1000.0, \"y\": 33.00000000000001}, {\"x\": 1090.909090909091, \"y\": 33.85526228068614}, {\"x\": 1181.8181818181818, \"y\": 33.883475657000055}, {\"x\": 1272.7272727272727, \"y\": 34.84565215159061}, {\"x\": 1363.6363636363635, \"y\": 36.7451249026802}, {\"x\": 1454.5454545454545, \"y\": 38.935390840938695}, {\"x\": 1545.4545454545455, \"y\": 41.04425995234935}, {\"x\": 1636.3636363636363, \"y\": 43.071732236912176}, {\"x\": 1727.2727272727273, \"y\": 45.017807694627166}, {\"x\": 1818.181818181818, \"y\": 46.88248632549433}, {\"x\": 1909.090909090909, \"y\": 48.66576812951366}, {\"x\": 2000.0, \"y\": 50.367653106685154}, {\"x\": 2090.909090909091, \"y\": 51.988141257008806}, {\"x\": 2181.818181818182, \"y\": 53.527232580484636}, {\"x\": 2272.7272727272725, \"y\": 54.98492707711263}, {\"x\": 2363.6363636363635, \"y\": 56.36122474689278}, {\"x\": 2454.5454545454545, \"y\": 57.65612558982511}, {\"x\": 2545.4545454545455, \"y\": 58.8764538035256}, {\"x\": 2636.3636363636365, \"y\": 60.063154573690205}, {\"x\": 2727.272727272727, \"y\": 61.22305209793494}, {\"x\": 2818.181818181818, \"y\": 62.35614637625979}, {\"x\": 2909.090909090909, \"y\": 63.46243740866477}, {\"x\": 3000.0, \"y\": 64.54192519514986}, {\"x\": 3090.909090909091, \"y\": 65.59460973571505}, {\"x\": 3181.8181818181815, \"y\": 66.6204910303604}, {\"x\": 3272.7272727272725, \"y\": 67.61956907908585}, {\"x\": 3363.6363636363635, \"y\": 68.59184388189142}, {\"x\": 3454.5454545454545, \"y\": 69.53731543877711}, {\"x\": 3545.4545454545455, \"y\": 70.45598374974293}, {\"x\": 3636.363636363636, \"y\": 71.34784881478885}, {\"x\": 3727.272727272727, \"y\": 72.2129106339149}, {\"x\": 3818.181818181818, \"y\": 73.05116920712106}, {\"x\": 3909.090909090909, \"y\": 73.86262453440736}, {\"x\": 4000.0, \"y\": 74.64727661577378}, {\"x\": 4090.909090909091, \"y\": 75.40512545122031}, {\"x\": 4181.818181818182, \"y\": 76.13617104074697}, {\"x\": 4272.727272727273, \"y\": 76.84041338435372}, {\"x\": 4363.636363636364, \"y\": 77.51785248204061}, {\"x\": 4454.545454545454, \"y\": 78.16848833380762}, {\"x\": 4545.454545454545, \"y\": 78.79232093965473}, {\"x\": 4636.363636363636, \"y\": 79.38935029958199}, {\"x\": 4727.272727272727, \"y\": 79.95957641358936}, {\"x\": 4818.181818181818, \"y\": 80.50299928167684}, {\"x\": 4909.090909090909, \"y\": 81.01961890384447}, {\"x\": 5000.0, \"y\": 81.50943528009219}, {\"x\": 5090.909090909091, \"y\": 81.97244841042004}, {\"x\": 5181.818181818182, \"y\": 82.41026159088877}, {\"x\": 5272.727272727273, \"y\": 82.84191805226097}, {\"x\": 5363.636363636363, \"y\": 83.27294752992987}, {\"x\": 5454.545454545454, \"y\": 83.70335002389554}, {\"x\": 5545.454545454545, \"y\": 84.1331255341579}, {\"x\": 5636.363636363636, \"y\": 84.562274060717}, {\"x\": 5727.272727272727, \"y\": 84.9907956035728}, {\"x\": 5818.181818181818, \"y\": 85.41869016272534}, {\"x\": 5909.090909090909, \"y\": 85.8459577381746}, {\"x\": 6000.0, \"y\": 86.2725983299206}, {\"x\": 6090.909090909091, \"y\": 86.69861193796332}, {\"x\": 6181.818181818182, \"y\": 87.12399856230276}, {\"x\": 6272.727272727273, \"y\": 87.54875820293891}, {\"x\": 6363.636363636363, \"y\": 87.97289085987178}, {\"x\": 6454.545454545454, \"y\": 88.3963965331014}, {\"x\": 6545.454545454545, \"y\": 88.81927522262772}, {\"x\": 6636.363636363636, \"y\": 89.24152692845075}, {\"x\": 6727.272727272727, \"y\": 89.66315165057054}, {\"x\": 6818.181818181818, \"y\": 90.08414938898704}, {\"x\": 6909.090909090909, \"y\": 90.50452014370026}, {\"x\": 7000.0, \"y\": 90.9242639147102}, {\"x\": 7090.909090909091, \"y\": 91.34338070201687}, {\"x\": 7181.818181818182, \"y\": 91.76187050562027}, {\"x\": 7272.727272727272, \"y\": 92.17973332552037}, {\"x\": 7363.636363636363, \"y\": 92.5969691617172}, {\"x\": 7454.545454545454, \"y\": 93.01357801421078}, {\"x\": 7545.454545454545, \"y\": 93.42955988300106}, {\"x\": 7636.363636363636, \"y\": 93.84491476808807}, {\"x\": 7727.272727272727, \"y\": 94.2596426694718}, {\"x\": 7818.181818181818, \"y\": 94.67374358715225}, {\"x\": 7909.090909090909, \"y\": 95.08721752112942}, {\"x\": 8000.0, \"y\": 95.50006447140333}, {\"x\": 8090.909090909091, \"y\": 95.91228443797395}, {\"x\": 8181.818181818182, \"y\": 96.3238774208413}, {\"x\": 8272.727272727272, \"y\": 96.73484342000538}, {\"x\": 8363.636363636364, \"y\": 97.14518243546618}, {\"x\": 8454.545454545454, \"y\": 97.55489446722369}, {\"x\": 8545.454545454546, \"y\": 97.96397951527794}, {\"x\": 8636.363636363636, \"y\": 98.3724375796289}, {\"x\": 8727.272727272728, \"y\": 98.7802686602766}, {\"x\": 8818.181818181818, \"y\": 99.18747275722099}, {\"x\": 8909.090909090908, \"y\": 99.59404987046214}, {\"x\": 9000.0, \"y\": 100.0}]}}, {\"mode\": \"vega-lite\"});\n",
       "</script>"
      ],
      "text/plain": [
       "alt.Chart(...)"
      ]
     },
     "execution_count": 97,
     "metadata": {},
     "output_type": "execute_result"
    }
   ],
   "source": [
    "basex = [0, 200, 400, 500, 700, 900, 1000, 1200, 1500, 3500, 6800, 9000]\n",
    "basey = [0, 7,   15,  21,  24,  30,  33,   34,   40,   70,   90, 100]\n",
    " \n",
    "model2 = scipy.interpolate.interp1d(basex, basey, kind='quadratic')\n",
    "x = np.linspace(0, np.max(basex), 100)\n",
    "y = model2(x)\n",
    "interpolate_df = pd.DataFrame(dict(x=x, y=y))\n",
    "\n",
    "chart = (\n",
    "    alt.Chart(\n",
    "        interpolate_df,\n",
    "        title='Interpolation',\n",
    "    )\n",
    "    .mark_line()\n",
    "    .encode(\n",
    "        alt.X('x', title='Sensor reading'),\n",
    "        alt.Y('y', title='Brightness setting'),\n",
    "    )\n",
    "    .interactive()\n",
    ")\n",
    "chart.save('interpolation.json')\n",
    "chart"
   ]
  },
  {
   "cell_type": "code",
   "execution_count": null,
   "id": "35cf1afa-455f-487f-b985-0d48514771ab",
   "metadata": {},
   "outputs": [],
   "source": []
  }
 ],
 "metadata": {
  "kernelspec": {
   "display_name": "Python 3 (ipykernel)",
   "language": "python",
   "name": "python3"
  },
  "language_info": {
   "codemirror_mode": {
    "name": "ipython",
    "version": 3
   },
   "file_extension": ".py",
   "mimetype": "text/x-python",
   "name": "python",
   "nbconvert_exporter": "python",
   "pygments_lexer": "ipython3",
   "version": "3.10.4"
  }
 },
 "nbformat": 4,
 "nbformat_minor": 5
}
